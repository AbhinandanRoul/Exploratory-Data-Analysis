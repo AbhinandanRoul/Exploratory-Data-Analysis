{
 "cells": [
  {
   "cell_type": "code",
   "execution_count": 1,
   "id": "37b5b5d3",
   "metadata": {
    "_cell_guid": "b1076dfc-b9ad-4769-8c92-a6c4dae69d19",
    "_uuid": "8f2839f25d086af736a60e9eeb907d3b93b6e0e5",
    "execution": {
     "iopub.execute_input": "2021-10-07T18:06:46.238044Z",
     "iopub.status.busy": "2021-10-07T18:06:46.237394Z",
     "iopub.status.idle": "2021-10-07T18:06:47.143292Z",
     "shell.execute_reply": "2021-10-07T18:06:47.142631Z",
     "shell.execute_reply.started": "2021-10-07T18:06:04.093584Z"
    },
    "papermill": {
     "duration": 0.954985,
     "end_time": "2021-10-07T18:06:47.143463",
     "exception": false,
     "start_time": "2021-10-07T18:06:46.188478",
     "status": "completed"
    },
    "tags": []
   },
   "outputs": [
    {
     "name": "stdout",
     "output_type": "stream",
     "text": [
      "/kaggle/input/nykaacosmeticsproductsreview2021/Nykaa_Product_Review.csv\n"
     ]
    }
   ],
   "source": [
    "import numpy as np # linear algebra\n",
    "import pandas as pd # data processing, CSV file I/O (e.g. pd.read_csv)\n",
    "import seaborn as sns\n",
    "import matplotlib.pyplot as plt\n",
    "\n",
    "import os\n",
    "for dirname, _, filenames in os.walk('/kaggle/input'):\n",
    "    for filename in filenames:\n",
    "        print(os.path.join(dirname, filename))"
   ]
  },
  {
   "cell_type": "code",
   "execution_count": 2,
   "id": "7043e19d",
   "metadata": {
    "execution": {
     "iopub.execute_input": "2021-10-07T18:06:47.221843Z",
     "iopub.status.busy": "2021-10-07T18:06:47.221188Z",
     "iopub.status.idle": "2021-10-07T18:06:47.316634Z",
     "shell.execute_reply": "2021-10-07T18:06:47.316132Z",
     "shell.execute_reply.started": "2021-10-07T18:06:04.106232Z"
    },
    "papermill": {
     "duration": 0.136332,
     "end_time": "2021-10-07T18:06:47.316789",
     "exception": false,
     "start_time": "2021-10-07T18:06:47.180457",
     "status": "completed"
    },
    "tags": []
   },
   "outputs": [
    {
     "data": {
      "text/html": [
       "<div>\n",
       "<style scoped>\n",
       "    .dataframe tbody tr th:only-of-type {\n",
       "        vertical-align: middle;\n",
       "    }\n",
       "\n",
       "    .dataframe tbody tr th {\n",
       "        vertical-align: top;\n",
       "    }\n",
       "\n",
       "    .dataframe thead th {\n",
       "        text-align: right;\n",
       "    }\n",
       "</style>\n",
       "<table border=\"1\" class=\"dataframe\">\n",
       "  <thead>\n",
       "    <tr style=\"text-align: right;\">\n",
       "      <th></th>\n",
       "      <th>Product Id</th>\n",
       "      <th>Product Brand Code</th>\n",
       "      <th>Retailer</th>\n",
       "      <th>Product Category</th>\n",
       "      <th>Product Brand</th>\n",
       "      <th>Product Name</th>\n",
       "      <th>Product Price</th>\n",
       "      <th>Product Url</th>\n",
       "      <th>Market</th>\n",
       "      <th>Product Description</th>\n",
       "      <th>Product Currency</th>\n",
       "      <th>Product Image Url</th>\n",
       "      <th>Product Tags</th>\n",
       "      <th>Product Contents</th>\n",
       "      <th>Product Rating</th>\n",
       "      <th>Product Reviews Count</th>\n",
       "      <th>Expected Category Count</th>\n",
       "      <th>Expected Brand Count</th>\n",
       "    </tr>\n",
       "  </thead>\n",
       "  <tbody>\n",
       "    <tr>\n",
       "      <th>0</th>\n",
       "      <td>b77f3da33be6e65f6183da6ada8c07ca</td>\n",
       "      <td>BZ1000</td>\n",
       "      <td>nykaa.com</td>\n",
       "      <td>Makeup &gt; Face &gt; Contour</td>\n",
       "      <td>ETUDE HOUSE</td>\n",
       "      <td>ETUDE HOUSE Face Color Shading - 02</td>\n",
       "      <td>600</td>\n",
       "      <td>https://www.nykaa.com/c/p/760922?skuId=760920</td>\n",
       "      <td>IN</td>\n",
       "      <td>Etude House Face Color Shading provides a shad...</td>\n",
       "      <td>INR</td>\n",
       "      <td>https://images-static.nykaa.com/media/catalog/...</td>\n",
       "      <td>ETUDE HOUSE Face Color Shading - 02, Makeup, F...</td>\n",
       "      <td>NaN</td>\n",
       "      <td>4.6</td>\n",
       "      <td>4.0</td>\n",
       "      <td>153</td>\n",
       "      <td>82</td>\n",
       "    </tr>\n",
       "    <tr>\n",
       "      <th>1</th>\n",
       "      <td>f54658c5d511195b6621a640fb743b1b</td>\n",
       "      <td>BH5931</td>\n",
       "      <td>nykaa.com</td>\n",
       "      <td>Brand &gt; L'Oreal Paris</td>\n",
       "      <td>L'Oreal Paris</td>\n",
       "      <td>L'Oreal Paris Glow Mon Amour Highlighting Drop...</td>\n",
       "      <td>454</td>\n",
       "      <td>https://www.nykaa.com/c/p/565974?skuId=565973</td>\n",
       "      <td>IN</td>\n",
       "      <td>It's time to skip the snooze button and get up...</td>\n",
       "      <td>INR</td>\n",
       "      <td>https://images-static.nykaa.com/media/catalog/...</td>\n",
       "      <td>L'Oreal Paris Glow Mon Amour Highlighting Drop...</td>\n",
       "      <td>G927637, Cyclopentasiloxane, Dimethicone, Isod...</td>\n",
       "      <td>4.3</td>\n",
       "      <td>147.0</td>\n",
       "      <td>431</td>\n",
       "      <td>431</td>\n",
       "    </tr>\n",
       "    <tr>\n",
       "      <th>2</th>\n",
       "      <td>cdf6b3387f8976c8e38ad150173dbb6d</td>\n",
       "      <td>BH7276</td>\n",
       "      <td>nykaa.com</td>\n",
       "      <td>Makeup &gt; Face &gt; Foundation</td>\n",
       "      <td>The Body Shop</td>\n",
       "      <td>The Body Shop All-In-One Face Base - 045</td>\n",
       "      <td>1395</td>\n",
       "      <td>https://www.nykaa.com/c/p/31142?skuId=30050</td>\n",
       "      <td>IN</td>\n",
       "      <td>Note: The Body Shop products will be dispatche...</td>\n",
       "      <td>INR</td>\n",
       "      <td>https://images-static.nykaa.com/media/catalog/...</td>\n",
       "      <td>The Body Shop All-In-One Face Base - 045 , Mak...</td>\n",
       "      <td>NaN</td>\n",
       "      <td>4.4</td>\n",
       "      <td>58.0</td>\n",
       "      <td>0</td>\n",
       "      <td>0</td>\n",
       "    </tr>\n",
       "    <tr>\n",
       "      <th>3</th>\n",
       "      <td>424755c11c78b2b24ff13c675baf5d19</td>\n",
       "      <td>BZ1000</td>\n",
       "      <td>nykaa.com</td>\n",
       "      <td>Health &amp; Wellness &gt; Good for You &gt; Super Food</td>\n",
       "      <td>True Elements</td>\n",
       "      <td>True Elements Sunflower Raw Seeds</td>\n",
       "      <td>175</td>\n",
       "      <td>https://www.nykaa.com/c/p/370883?skuId=370881</td>\n",
       "      <td>IN</td>\n",
       "      <td>Sunflower has always been admired for its beau...</td>\n",
       "      <td>INR</td>\n",
       "      <td>https://images-static.nykaa.com/media/catalog/...</td>\n",
       "      <td>True Elements Sunflower Raw Seeds, Wellness, S...</td>\n",
       "      <td>Raw Sunflower Seeds</td>\n",
       "      <td>5</td>\n",
       "      <td>0.0</td>\n",
       "      <td>389</td>\n",
       "      <td>149</td>\n",
       "    </tr>\n",
       "    <tr>\n",
       "      <th>4</th>\n",
       "      <td>f7f76573099db0058ef5264c35d9d02e</td>\n",
       "      <td>BZ1000</td>\n",
       "      <td>nykaa.com</td>\n",
       "      <td>Makeup &gt; Lips &gt; Lip Stain</td>\n",
       "      <td>Nykaa Cosmetics</td>\n",
       "      <td>Nykaa Wonderpuff Cushion Liquid Lipstick - Wer...</td>\n",
       "      <td>539</td>\n",
       "      <td>https://www.nykaa.com/c/p/555315?skuId=555310</td>\n",
       "      <td>IN</td>\n",
       "      <td>It's no secret that a good lippie is a real mo...</td>\n",
       "      <td>INR</td>\n",
       "      <td>https://images-static.nykaa.com/media/catalog/...</td>\n",
       "      <td>NykaaÂ Wonderpuff!Â LipÂ &amp;Â CheekÂ Cushion Lip...</td>\n",
       "      <td>NaN</td>\n",
       "      <td>4</td>\n",
       "      <td>934.0</td>\n",
       "      <td>80</td>\n",
       "      <td>436</td>\n",
       "    </tr>\n",
       "  </tbody>\n",
       "</table>\n",
       "</div>"
      ],
      "text/plain": [
       "                         Product Id Product Brand Code   Retailer  \\\n",
       "0  b77f3da33be6e65f6183da6ada8c07ca             BZ1000  nykaa.com   \n",
       "1  f54658c5d511195b6621a640fb743b1b             BH5931  nykaa.com   \n",
       "2  cdf6b3387f8976c8e38ad150173dbb6d             BH7276  nykaa.com   \n",
       "3  424755c11c78b2b24ff13c675baf5d19             BZ1000  nykaa.com   \n",
       "4  f7f76573099db0058ef5264c35d9d02e             BZ1000  nykaa.com   \n",
       "\n",
       "                                Product Category    Product Brand  \\\n",
       "0                        Makeup > Face > Contour      ETUDE HOUSE   \n",
       "1                          Brand > L'Oreal Paris    L'Oreal Paris   \n",
       "2                     Makeup > Face > Foundation    The Body Shop   \n",
       "3  Health & Wellness > Good for You > Super Food    True Elements   \n",
       "4                      Makeup > Lips > Lip Stain  Nykaa Cosmetics   \n",
       "\n",
       "                                        Product Name Product Price  \\\n",
       "0                ETUDE HOUSE Face Color Shading - 02           600   \n",
       "1  L'Oreal Paris Glow Mon Amour Highlighting Drop...           454   \n",
       "2           The Body Shop All-In-One Face Base - 045          1395   \n",
       "3                  True Elements Sunflower Raw Seeds           175   \n",
       "4  Nykaa Wonderpuff Cushion Liquid Lipstick - Wer...           539   \n",
       "\n",
       "                                     Product Url Market  \\\n",
       "0  https://www.nykaa.com/c/p/760922?skuId=760920     IN   \n",
       "1  https://www.nykaa.com/c/p/565974?skuId=565973     IN   \n",
       "2    https://www.nykaa.com/c/p/31142?skuId=30050     IN   \n",
       "3  https://www.nykaa.com/c/p/370883?skuId=370881     IN   \n",
       "4  https://www.nykaa.com/c/p/555315?skuId=555310     IN   \n",
       "\n",
       "                                 Product Description Product Currency  \\\n",
       "0  Etude House Face Color Shading provides a shad...              INR   \n",
       "1  It's time to skip the snooze button and get up...              INR   \n",
       "2  Note: The Body Shop products will be dispatche...              INR   \n",
       "3  Sunflower has always been admired for its beau...              INR   \n",
       "4  It's no secret that a good lippie is a real mo...              INR   \n",
       "\n",
       "                                   Product Image Url  \\\n",
       "0  https://images-static.nykaa.com/media/catalog/...   \n",
       "1  https://images-static.nykaa.com/media/catalog/...   \n",
       "2  https://images-static.nykaa.com/media/catalog/...   \n",
       "3  https://images-static.nykaa.com/media/catalog/...   \n",
       "4  https://images-static.nykaa.com/media/catalog/...   \n",
       "\n",
       "                                        Product Tags  \\\n",
       "0  ETUDE HOUSE Face Color Shading - 02, Makeup, F...   \n",
       "1  L'Oreal Paris Glow Mon Amour Highlighting Drop...   \n",
       "2  The Body Shop All-In-One Face Base - 045 , Mak...   \n",
       "3  True Elements Sunflower Raw Seeds, Wellness, S...   \n",
       "4  NykaaÂ Wonderpuff!Â LipÂ &Â CheekÂ Cushion Lip...   \n",
       "\n",
       "                                    Product Contents Product Rating  \\\n",
       "0                                                NaN            4.6   \n",
       "1  G927637, Cyclopentasiloxane, Dimethicone, Isod...            4.3   \n",
       "2                                                NaN            4.4   \n",
       "3                                Raw Sunflower Seeds              5   \n",
       "4                                                NaN              4   \n",
       "\n",
       "   Product Reviews Count Expected Category Count  Expected Brand Count  \n",
       "0                    4.0                     153                    82  \n",
       "1                  147.0                     431                   431  \n",
       "2                   58.0                       0                     0  \n",
       "3                    0.0                     389                   149  \n",
       "4                  934.0                      80                   436  "
      ]
     },
     "execution_count": 2,
     "metadata": {},
     "output_type": "execute_result"
    }
   ],
   "source": [
    "input_data=pd.read_csv('../input/nykaacosmeticsproductsreview2021/Nykaa_Product_Review.csv')\n",
    "input_data.head()"
   ]
  },
  {
   "cell_type": "code",
   "execution_count": 3,
   "id": "eac6c6b6",
   "metadata": {
    "execution": {
     "iopub.execute_input": "2021-10-07T18:06:47.400106Z",
     "iopub.status.busy": "2021-10-07T18:06:47.399468Z",
     "iopub.status.idle": "2021-10-07T18:06:47.402011Z",
     "shell.execute_reply": "2021-10-07T18:06:47.402581Z",
     "shell.execute_reply.started": "2021-10-07T18:06:04.161493Z"
    },
    "papermill": {
     "duration": 0.048562,
     "end_time": "2021-10-07T18:06:47.402740",
     "exception": false,
     "start_time": "2021-10-07T18:06:47.354178",
     "status": "completed"
    },
    "tags": []
   },
   "outputs": [],
   "source": [
    "# Dropping all product ID cols that included a link. This caused column shifting which caused string values to exist in product price and product ID.\n",
    "input_data.drop(\n",
    "    input_data.index[\n",
    "        input_data['Product Id'].astype(str).str.startswith('https')\n",
    "    ], \n",
    "    inplace = True)"
   ]
  },
  {
   "cell_type": "code",
   "execution_count": 4,
   "id": "4066301e",
   "metadata": {
    "execution": {
     "iopub.execute_input": "2021-10-07T18:06:47.486240Z",
     "iopub.status.busy": "2021-10-07T18:06:47.485544Z",
     "iopub.status.idle": "2021-10-07T18:06:47.537431Z",
     "shell.execute_reply": "2021-10-07T18:06:47.538126Z",
     "shell.execute_reply.started": "2021-10-07T18:06:04.170004Z"
    },
    "papermill": {
     "duration": 0.098236,
     "end_time": "2021-10-07T18:06:47.538367",
     "exception": false,
     "start_time": "2021-10-07T18:06:47.440131",
     "status": "completed"
    },
    "tags": []
   },
   "outputs": [
    {
     "name": "stderr",
     "output_type": "stream",
     "text": [
      "/opt/conda/lib/python3.7/site-packages/ipykernel_launcher.py:2: SettingWithCopyWarning: \n",
      "A value is trying to be set on a copy of a slice from a DataFrame\n",
      "\n",
      "See the caveats in the documentation: https://pandas.pydata.org/pandas-docs/stable/user_guide/indexing.html#returning-a-view-versus-a-copy\n",
      "  \n"
     ]
    },
    {
     "data": {
      "text/html": [
       "<div>\n",
       "<style scoped>\n",
       "    .dataframe tbody tr th:only-of-type {\n",
       "        vertical-align: middle;\n",
       "    }\n",
       "\n",
       "    .dataframe tbody tr th {\n",
       "        vertical-align: top;\n",
       "    }\n",
       "\n",
       "    .dataframe thead th {\n",
       "        text-align: right;\n",
       "    }\n",
       "</style>\n",
       "<table border=\"1\" class=\"dataframe\">\n",
       "  <thead>\n",
       "    <tr style=\"text-align: right;\">\n",
       "      <th></th>\n",
       "      <th>Product Brand</th>\n",
       "      <th>Product Category</th>\n",
       "      <th>Product Description</th>\n",
       "      <th>Product Price</th>\n",
       "      <th>Product Reviews Count</th>\n",
       "      <th>Product Rating</th>\n",
       "    </tr>\n",
       "  </thead>\n",
       "  <tbody>\n",
       "    <tr>\n",
       "      <th>0</th>\n",
       "      <td>ETUDE HOUSE</td>\n",
       "      <td>Makeup &gt; Face &gt; Contour</td>\n",
       "      <td>Etude House Face Color Shading provides a shad...</td>\n",
       "      <td>600</td>\n",
       "      <td>4.0</td>\n",
       "      <td>4.6</td>\n",
       "    </tr>\n",
       "    <tr>\n",
       "      <th>1</th>\n",
       "      <td>L'Oreal Paris</td>\n",
       "      <td>Brand &gt; L'Oreal Paris</td>\n",
       "      <td>It's time to skip the snooze button and get up...</td>\n",
       "      <td>454</td>\n",
       "      <td>147.0</td>\n",
       "      <td>4.3</td>\n",
       "    </tr>\n",
       "    <tr>\n",
       "      <th>2</th>\n",
       "      <td>The Body Shop</td>\n",
       "      <td>Makeup &gt; Face &gt; Foundation</td>\n",
       "      <td>Note: The Body Shop products will be dispatche...</td>\n",
       "      <td>1395</td>\n",
       "      <td>58.0</td>\n",
       "      <td>4.4</td>\n",
       "    </tr>\n",
       "    <tr>\n",
       "      <th>3</th>\n",
       "      <td>True Elements</td>\n",
       "      <td>Health &amp; Wellness &gt; Good for You &gt; Super Food</td>\n",
       "      <td>Sunflower has always been admired for its beau...</td>\n",
       "      <td>175</td>\n",
       "      <td>0.0</td>\n",
       "      <td>5</td>\n",
       "    </tr>\n",
       "    <tr>\n",
       "      <th>4</th>\n",
       "      <td>Nykaa Cosmetics</td>\n",
       "      <td>Makeup &gt; Lips &gt; Lip Stain</td>\n",
       "      <td>It's no secret that a good lippie is a real mo...</td>\n",
       "      <td>539</td>\n",
       "      <td>934.0</td>\n",
       "      <td>4</td>\n",
       "    </tr>\n",
       "    <tr>\n",
       "      <th>5</th>\n",
       "      <td>HealthVit</td>\n",
       "      <td>Natural &gt; Shop By Concern &gt; Acne Treatment</td>\n",
       "      <td>Experience the goodness of Pure Activated Char...</td>\n",
       "      <td>249</td>\n",
       "      <td>442.0</td>\n",
       "      <td>4.2</td>\n",
       "    </tr>\n",
       "    <tr>\n",
       "      <th>6</th>\n",
       "      <td>Nivea</td>\n",
       "      <td>Brand &gt; Nivea</td>\n",
       "      <td>Indulge in the goodness of natural oils in a f...</td>\n",
       "      <td>260</td>\n",
       "      <td>1220.0</td>\n",
       "      <td>4.5</td>\n",
       "    </tr>\n",
       "    <tr>\n",
       "      <th>7</th>\n",
       "      <td>Lotus Herbals</td>\n",
       "      <td>Natural &gt; Skin &gt; Face Wash</td>\n",
       "      <td>Lotus Herbals WhiteGlow Activated Charcoal Bri...</td>\n",
       "      <td>140</td>\n",
       "      <td>8.0</td>\n",
       "      <td>4.2</td>\n",
       "    </tr>\n",
       "    <tr>\n",
       "      <th>8</th>\n",
       "      <td>Floret</td>\n",
       "      <td>Mom &amp; Baby &gt; Maternity Wear &gt; Maternity Bra</td>\n",
       "      <td>Product Color : Multi-ColorPack of two full-co...</td>\n",
       "      <td>758</td>\n",
       "      <td>0.0</td>\n",
       "      <td>5</td>\n",
       "    </tr>\n",
       "    <tr>\n",
       "      <th>11</th>\n",
       "      <td>Smashbox</td>\n",
       "      <td>Makeup &gt; Face &gt; Concealer</td>\n",
       "      <td>These creamy, color-correcting sticks camoufla...</td>\n",
       "      <td>2090</td>\n",
       "      <td>13.0</td>\n",
       "      <td>4.1</td>\n",
       "    </tr>\n",
       "  </tbody>\n",
       "</table>\n",
       "</div>"
      ],
      "text/plain": [
       "      Product Brand                               Product Category  \\\n",
       "0       ETUDE HOUSE                        Makeup > Face > Contour   \n",
       "1     L'Oreal Paris                          Brand > L'Oreal Paris   \n",
       "2     The Body Shop                     Makeup > Face > Foundation   \n",
       "3     True Elements  Health & Wellness > Good for You > Super Food   \n",
       "4   Nykaa Cosmetics                      Makeup > Lips > Lip Stain   \n",
       "5         HealthVit     Natural > Shop By Concern > Acne Treatment   \n",
       "6             Nivea                                  Brand > Nivea   \n",
       "7     Lotus Herbals                     Natural > Skin > Face Wash   \n",
       "8            Floret    Mom & Baby > Maternity Wear > Maternity Bra   \n",
       "11         Smashbox                      Makeup > Face > Concealer   \n",
       "\n",
       "                                  Product Description Product Price  \\\n",
       "0   Etude House Face Color Shading provides a shad...           600   \n",
       "1   It's time to skip the snooze button and get up...           454   \n",
       "2   Note: The Body Shop products will be dispatche...          1395   \n",
       "3   Sunflower has always been admired for its beau...           175   \n",
       "4   It's no secret that a good lippie is a real mo...           539   \n",
       "5   Experience the goodness of Pure Activated Char...           249   \n",
       "6   Indulge in the goodness of natural oils in a f...           260   \n",
       "7   Lotus Herbals WhiteGlow Activated Charcoal Bri...           140   \n",
       "8   Product Color : Multi-ColorPack of two full-co...           758   \n",
       "11  These creamy, color-correcting sticks camoufla...          2090   \n",
       "\n",
       "    Product Reviews Count Product Rating  \n",
       "0                     4.0            4.6  \n",
       "1                   147.0            4.3  \n",
       "2                    58.0            4.4  \n",
       "3                     0.0              5  \n",
       "4                   934.0              4  \n",
       "5                   442.0            4.2  \n",
       "6                  1220.0            4.5  \n",
       "7                     8.0            4.2  \n",
       "8                     0.0              5  \n",
       "11                   13.0            4.1  "
      ]
     },
     "execution_count": 4,
     "metadata": {},
     "output_type": "execute_result"
    }
   ],
   "source": [
    "useful_features=input_data[['Product Brand', 'Product Category','Product Description', 'Product Price', 'Product Reviews Count', 'Product Rating']]\n",
    "useful_features.dropna(inplace=True)\n",
    "useful_features.head(10)"
   ]
  },
  {
   "cell_type": "code",
   "execution_count": 5,
   "id": "2577495c",
   "metadata": {
    "execution": {
     "iopub.execute_input": "2021-10-07T18:06:47.622422Z",
     "iopub.status.busy": "2021-10-07T18:06:47.621453Z",
     "iopub.status.idle": "2021-10-07T18:06:47.639841Z",
     "shell.execute_reply": "2021-10-07T18:06:47.639309Z",
     "shell.execute_reply.started": "2021-10-07T18:06:04.199921Z"
    },
    "papermill": {
     "duration": 0.058978,
     "end_time": "2021-10-07T18:06:47.639986",
     "exception": false,
     "start_time": "2021-10-07T18:06:47.581008",
     "status": "completed"
    },
    "tags": []
   },
   "outputs": [
    {
     "data": {
      "text/html": [
       "<div>\n",
       "<style scoped>\n",
       "    .dataframe tbody tr th:only-of-type {\n",
       "        vertical-align: middle;\n",
       "    }\n",
       "\n",
       "    .dataframe tbody tr th {\n",
       "        vertical-align: top;\n",
       "    }\n",
       "\n",
       "    .dataframe thead th {\n",
       "        text-align: right;\n",
       "    }\n",
       "</style>\n",
       "<table border=\"1\" class=\"dataframe\">\n",
       "  <thead>\n",
       "    <tr style=\"text-align: right;\">\n",
       "      <th></th>\n",
       "      <th>Product Reviews Count</th>\n",
       "    </tr>\n",
       "  </thead>\n",
       "  <tbody>\n",
       "    <tr>\n",
       "      <th>count</th>\n",
       "      <td>486.000000</td>\n",
       "    </tr>\n",
       "    <tr>\n",
       "      <th>mean</th>\n",
       "      <td>384.080247</td>\n",
       "    </tr>\n",
       "    <tr>\n",
       "      <th>std</th>\n",
       "      <td>1089.010287</td>\n",
       "    </tr>\n",
       "    <tr>\n",
       "      <th>min</th>\n",
       "      <td>0.000000</td>\n",
       "    </tr>\n",
       "    <tr>\n",
       "      <th>25%</th>\n",
       "      <td>3.000000</td>\n",
       "    </tr>\n",
       "    <tr>\n",
       "      <th>50%</th>\n",
       "      <td>22.000000</td>\n",
       "    </tr>\n",
       "    <tr>\n",
       "      <th>75%</th>\n",
       "      <td>150.000000</td>\n",
       "    </tr>\n",
       "    <tr>\n",
       "      <th>max</th>\n",
       "      <td>8513.000000</td>\n",
       "    </tr>\n",
       "  </tbody>\n",
       "</table>\n",
       "</div>"
      ],
      "text/plain": [
       "       Product Reviews Count\n",
       "count             486.000000\n",
       "mean              384.080247\n",
       "std              1089.010287\n",
       "min                 0.000000\n",
       "25%                 3.000000\n",
       "50%                22.000000\n",
       "75%               150.000000\n",
       "max              8513.000000"
      ]
     },
     "execution_count": 5,
     "metadata": {},
     "output_type": "execute_result"
    }
   ],
   "source": [
    "# Finding the details about data\n",
    "useful_features.describe()"
   ]
  },
  {
   "cell_type": "code",
   "execution_count": 6,
   "id": "78c67c50",
   "metadata": {
    "execution": {
     "iopub.execute_input": "2021-10-07T18:06:47.734563Z",
     "iopub.status.busy": "2021-10-07T18:06:47.733885Z",
     "iopub.status.idle": "2021-10-07T18:06:47.736568Z",
     "shell.execute_reply": "2021-10-07T18:06:47.737078Z",
     "shell.execute_reply.started": "2021-10-07T18:06:04.217755Z"
    },
    "papermill": {
     "duration": 0.058037,
     "end_time": "2021-10-07T18:06:47.737254",
     "exception": false,
     "start_time": "2021-10-07T18:06:47.679217",
     "status": "completed"
    },
    "tags": []
   },
   "outputs": [
    {
     "name": "stdout",
     "output_type": "stream",
     "text": [
      "<class 'pandas.core.frame.DataFrame'>\n",
      "Int64Index: 486 entries, 0 to 624\n",
      "Data columns (total 6 columns):\n",
      " #   Column                 Non-Null Count  Dtype  \n",
      "---  ------                 --------------  -----  \n",
      " 0   Product Brand          486 non-null    object \n",
      " 1   Product Category       486 non-null    object \n",
      " 2   Product Description    486 non-null    object \n",
      " 3   Product Price          486 non-null    object \n",
      " 4   Product Reviews Count  486 non-null    float64\n",
      " 5   Product Rating         486 non-null    object \n",
      "dtypes: float64(1), object(5)\n",
      "memory usage: 26.6+ KB\n"
     ]
    }
   ],
   "source": [
    "# Finding the datatype of each column fields\n",
    "useful_features.info()"
   ]
  },
  {
   "cell_type": "code",
   "execution_count": 7,
   "id": "af296610",
   "metadata": {
    "execution": {
     "iopub.execute_input": "2021-10-07T18:06:47.817893Z",
     "iopub.status.busy": "2021-10-07T18:06:47.817248Z",
     "iopub.status.idle": "2021-10-07T18:06:47.823706Z",
     "shell.execute_reply": "2021-10-07T18:06:47.824230Z",
     "shell.execute_reply.started": "2021-10-07T18:06:04.238076Z"
    },
    "papermill": {
     "duration": 0.048016,
     "end_time": "2021-10-07T18:06:47.824432",
     "exception": false,
     "start_time": "2021-10-07T18:06:47.776416",
     "status": "completed"
    },
    "tags": []
   },
   "outputs": [
    {
     "name": "stderr",
     "output_type": "stream",
     "text": [
      "/opt/conda/lib/python3.7/site-packages/ipykernel_launcher.py:3: SettingWithCopyWarning: \n",
      "A value is trying to be set on a copy of a slice from a DataFrame.\n",
      "Try using .loc[row_indexer,col_indexer] = value instead\n",
      "\n",
      "See the caveats in the documentation: https://pandas.pydata.org/pandas-docs/stable/user_guide/indexing.html#returning-a-view-versus-a-copy\n",
      "  This is separate from the ipykernel package so we can avoid doing imports until\n",
      "/opt/conda/lib/python3.7/site-packages/ipykernel_launcher.py:4: SettingWithCopyWarning: \n",
      "A value is trying to be set on a copy of a slice from a DataFrame.\n",
      "Try using .loc[row_indexer,col_indexer] = value instead\n",
      "\n",
      "See the caveats in the documentation: https://pandas.pydata.org/pandas-docs/stable/user_guide/indexing.html#returning-a-view-versus-a-copy\n",
      "  after removing the cwd from sys.path.\n"
     ]
    }
   ],
   "source": [
    "# Convert the Product Price, Reviews count and Rating in float\n",
    "# useful_features.astype({'Product Price':'float64','Product Rating':'float64'})\n",
    "useful_features['Product Price']= useful_features['Product Price'].astype('float64')\n",
    "useful_features['Product Rating']= useful_features['Product Rating'].astype('float64')"
   ]
  },
  {
   "cell_type": "code",
   "execution_count": 8,
   "id": "db23a386",
   "metadata": {
    "execution": {
     "iopub.execute_input": "2021-10-07T18:06:47.910599Z",
     "iopub.status.busy": "2021-10-07T18:06:47.909943Z",
     "iopub.status.idle": "2021-10-07T18:06:47.912845Z",
     "shell.execute_reply": "2021-10-07T18:06:47.913331Z",
     "shell.execute_reply.started": "2021-10-07T18:06:04.249192Z"
    },
    "papermill": {
     "duration": 0.048991,
     "end_time": "2021-10-07T18:06:47.913492",
     "exception": false,
     "start_time": "2021-10-07T18:06:47.864501",
     "status": "completed"
    },
    "tags": []
   },
   "outputs": [
    {
     "data": {
      "text/plain": [
       "Product Brand             object\n",
       "Product Category          object\n",
       "Product Description       object\n",
       "Product Price            float64\n",
       "Product Reviews Count    float64\n",
       "Product Rating           float64\n",
       "dtype: object"
      ]
     },
     "execution_count": 8,
     "metadata": {},
     "output_type": "execute_result"
    }
   ],
   "source": [
    "useful_features.dtypes"
   ]
  },
  {
   "cell_type": "code",
   "execution_count": 9,
   "id": "90c0b7e9",
   "metadata": {
    "execution": {
     "iopub.execute_input": "2021-10-07T18:06:47.995039Z",
     "iopub.status.busy": "2021-10-07T18:06:47.994409Z",
     "iopub.status.idle": "2021-10-07T18:06:48.239551Z",
     "shell.execute_reply": "2021-10-07T18:06:48.238859Z",
     "shell.execute_reply.started": "2021-10-07T18:06:04.268995Z"
    },
    "papermill": {
     "duration": 0.286801,
     "end_time": "2021-10-07T18:06:48.239689",
     "exception": false,
     "start_time": "2021-10-07T18:06:47.952888",
     "status": "completed"
    },
    "tags": []
   },
   "outputs": [
    {
     "data": {
      "text/plain": [
       "<AxesSubplot:xlabel='Product Rating', ylabel='Product Price'>"
      ]
     },
     "execution_count": 9,
     "metadata": {},
     "output_type": "execute_result"
    },
    {
     "data": {
      "image/png": "[encoded data removed]",
      "text/plain": [
       "<Figure size 432x288 with 1 Axes>"
      ]
     },
     "metadata": {
      "needs_background": "light"
     },
     "output_type": "display_data"
    }
   ],
   "source": [
    "## Visuals\n",
    "# Comparing Product and vs Price\n",
    "sns.scatterplot(x='Product Rating', y='Product Price', data=useful_features)"
   ]
  },
  {
   "cell_type": "code",
   "execution_count": 10,
   "id": "a1de634d",
   "metadata": {
    "execution": {
     "iopub.execute_input": "2021-10-07T18:06:48.345463Z",
     "iopub.status.busy": "2021-10-07T18:06:48.340697Z",
     "iopub.status.idle": "2021-10-07T18:06:48.470310Z",
     "shell.execute_reply": "2021-10-07T18:06:48.469690Z",
     "shell.execute_reply.started": "2021-10-07T18:06:04.614512Z"
    },
    "papermill": {
     "duration": 0.189769,
     "end_time": "2021-10-07T18:06:48.470446",
     "exception": false,
     "start_time": "2021-10-07T18:06:48.280677",
     "status": "completed"
    },
    "tags": []
   },
   "outputs": [
    {
     "data": {
      "text/plain": [
       "<AxesSubplot:>"
      ]
     },
     "execution_count": 10,
     "metadata": {},
     "output_type": "execute_result"
    },
    {
     "data": {
      "image/png": "[encoded data removed]",
      "text/plain": [
       "<Figure size 432x288 with 1 Axes>"
      ]
     },
     "metadata": {
      "needs_background": "light"
     },
     "output_type": "display_data"
    }
   ],
   "source": [
    "sns.stripplot(data=useful_features)"
   ]
  },
  {
   "cell_type": "code",
   "execution_count": 11,
   "id": "d4186baa",
   "metadata": {
    "execution": {
     "iopub.execute_input": "2021-10-07T18:06:48.558324Z",
     "iopub.status.busy": "2021-10-07T18:06:48.557659Z",
     "iopub.status.idle": "2021-10-07T18:06:48.561078Z",
     "shell.execute_reply": "2021-10-07T18:06:48.560563Z",
     "shell.execute_reply.started": "2021-10-07T18:06:04.843698Z"
    },
    "papermill": {
     "duration": 0.048772,
     "end_time": "2021-10-07T18:06:48.561215",
     "exception": false,
     "start_time": "2021-10-07T18:06:48.512443",
     "status": "completed"
    },
    "tags": []
   },
   "outputs": [],
   "source": [
    "## Finding product category by one hot encoding\n",
    "#df=useful_features\n",
    "#df=pd.concat([df,pd.get_dummies(useful_features['Product Brand'])], axis=1)\n",
    "#df.head()"
   ]
  },
  {
   "cell_type": "code",
   "execution_count": 12,
   "id": "efc2b7c2",
   "metadata": {
    "execution": {
     "iopub.execute_input": "2021-10-07T18:06:48.652109Z",
     "iopub.status.busy": "2021-10-07T18:06:48.651440Z",
     "iopub.status.idle": "2021-10-07T18:06:48.654016Z",
     "shell.execute_reply": "2021-10-07T18:06:48.654501Z",
     "shell.execute_reply.started": "2021-10-07T18:06:04.849627Z"
    },
    "papermill": {
     "duration": 0.05166,
     "end_time": "2021-10-07T18:06:48.654698",
     "exception": false,
     "start_time": "2021-10-07T18:06:48.603038",
     "status": "completed"
    },
    "tags": []
   },
   "outputs": [
    {
     "data": {
      "text/plain": [
       "0          ETUDE HOUSE\n",
       "1        L'Oreal Paris\n",
       "2        The Body Shop\n",
       "3        True Elements\n",
       "4      Nykaa Cosmetics\n",
       "            ...       \n",
       "618             Jovees\n",
       "620               Orly\n",
       "621          BOLLYGLOW\n",
       "623          L.A. Girl\n",
       "624              M.A.C\n",
       "Name: Product Brand, Length: 486, dtype: object"
      ]
     },
     "execution_count": 12,
     "metadata": {},
     "output_type": "execute_result"
    }
   ],
   "source": [
    "useful_features['Product Brand']"
   ]
  },
  {
   "cell_type": "code",
   "execution_count": 13,
   "id": "41ae28bf",
   "metadata": {
    "execution": {
     "iopub.execute_input": "2021-10-07T18:06:48.746338Z",
     "iopub.status.busy": "2021-10-07T18:06:48.745422Z",
     "iopub.status.idle": "2021-10-07T18:06:48.747785Z",
     "shell.execute_reply": "2021-10-07T18:06:48.748284Z",
     "shell.execute_reply.started": "2021-10-07T18:06:04.864947Z"
    },
    "papermill": {
     "duration": 0.051582,
     "end_time": "2021-10-07T18:06:48.748447",
     "exception": false,
     "start_time": "2021-10-07T18:06:48.696865",
     "status": "completed"
    },
    "tags": []
   },
   "outputs": [],
   "source": [
    "# Finding number of products of each brand\n",
    "brands=[]\n",
    "for brand in useful_features['Product Brand']:\n",
    "    brands.append(brand)\n",
    "    \n",
    "from collections import Counter\n",
    "c = Counter(brands)\n",
    "pb=[];qty=[]\n",
    "for k in c:\n",
    "    # print(k, c.get(k))\n",
    "    pb.append(k)\n",
    "    qty.append(c.get(k))"
   ]
  },
  {
   "cell_type": "code",
   "execution_count": 14,
   "id": "bbf7d496",
   "metadata": {
    "execution": {
     "iopub.execute_input": "2021-10-07T18:06:48.841188Z",
     "iopub.status.busy": "2021-10-07T18:06:48.840346Z",
     "iopub.status.idle": "2021-10-07T18:06:48.843039Z",
     "shell.execute_reply": "2021-10-07T18:06:48.843566Z",
     "shell.execute_reply.started": "2021-10-07T18:06:04.873147Z"
    },
    "papermill": {
     "duration": 0.052828,
     "end_time": "2021-10-07T18:06:48.843738",
     "exception": false,
     "start_time": "2021-10-07T18:06:48.790910",
     "status": "completed"
    },
    "tags": []
   },
   "outputs": [],
   "source": [
    "df=pd.DataFrame(\n",
    "{\"Product Brand\":pb,\n",
    " \"Qty\":qty\n",
    "})"
   ]
  },
  {
   "cell_type": "code",
   "execution_count": 15,
   "id": "9059a950",
   "metadata": {
    "execution": {
     "iopub.execute_input": "2021-10-07T18:06:48.935136Z",
     "iopub.status.busy": "2021-10-07T18:06:48.934480Z",
     "iopub.status.idle": "2021-10-07T18:06:48.937160Z",
     "shell.execute_reply": "2021-10-07T18:06:48.937583Z",
     "shell.execute_reply.started": "2021-10-07T18:06:04.885894Z"
    },
    "papermill": {
     "duration": 0.050927,
     "end_time": "2021-10-07T18:06:48.937759",
     "exception": false,
     "start_time": "2021-10-07T18:06:48.886832",
     "status": "completed"
    },
    "tags": []
   },
   "outputs": [],
   "source": [
    "# Sorting by most popular brands\n",
    "df.sort_values(by='Qty', ascending=False, inplace=True)"
   ]
  },
  {
   "cell_type": "code",
   "execution_count": 16,
   "id": "fac0ceae",
   "metadata": {
    "execution": {
     "iopub.execute_input": "2021-10-07T18:06:49.033050Z",
     "iopub.status.busy": "2021-10-07T18:06:49.032053Z",
     "iopub.status.idle": "2021-10-07T18:06:49.036436Z",
     "shell.execute_reply": "2021-10-07T18:06:49.035856Z",
     "shell.execute_reply.started": "2021-10-07T18:06:04.898113Z"
    },
    "papermill": {
     "duration": 0.056397,
     "end_time": "2021-10-07T18:06:49.036565",
     "exception": false,
     "start_time": "2021-10-07T18:06:48.980168",
     "status": "completed"
    },
    "tags": []
   },
   "outputs": [
    {
     "data": {
      "text/html": [
       "<div>\n",
       "<style scoped>\n",
       "    .dataframe tbody tr th:only-of-type {\n",
       "        vertical-align: middle;\n",
       "    }\n",
       "\n",
       "    .dataframe tbody tr th {\n",
       "        vertical-align: top;\n",
       "    }\n",
       "\n",
       "    .dataframe thead th {\n",
       "        text-align: right;\n",
       "    }\n",
       "</style>\n",
       "<table border=\"1\" class=\"dataframe\">\n",
       "  <thead>\n",
       "    <tr style=\"text-align: right;\">\n",
       "      <th></th>\n",
       "      <th>Product Brand</th>\n",
       "      <th>Qty</th>\n",
       "    </tr>\n",
       "  </thead>\n",
       "  <tbody>\n",
       "    <tr>\n",
       "      <th>4</th>\n",
       "      <td>Nykaa Cosmetics</td>\n",
       "      <td>17</td>\n",
       "    </tr>\n",
       "    <tr>\n",
       "      <th>21</th>\n",
       "      <td>Himalaya</td>\n",
       "      <td>17</td>\n",
       "    </tr>\n",
       "    <tr>\n",
       "      <th>48</th>\n",
       "      <td>Lakme</td>\n",
       "      <td>14</td>\n",
       "    </tr>\n",
       "    <tr>\n",
       "      <th>30</th>\n",
       "      <td>Biotique</td>\n",
       "      <td>11</td>\n",
       "    </tr>\n",
       "    <tr>\n",
       "      <th>60</th>\n",
       "      <td>Nykaa Naturals</td>\n",
       "      <td>11</td>\n",
       "    </tr>\n",
       "    <tr>\n",
       "      <th>6</th>\n",
       "      <td>Nivea</td>\n",
       "      <td>10</td>\n",
       "    </tr>\n",
       "    <tr>\n",
       "      <th>7</th>\n",
       "      <td>Lotus Herbals</td>\n",
       "      <td>9</td>\n",
       "    </tr>\n",
       "    <tr>\n",
       "      <th>1</th>\n",
       "      <td>L'Oreal Paris</td>\n",
       "      <td>8</td>\n",
       "    </tr>\n",
       "    <tr>\n",
       "      <th>86</th>\n",
       "      <td>Kay Beauty</td>\n",
       "      <td>8</td>\n",
       "    </tr>\n",
       "    <tr>\n",
       "      <th>11</th>\n",
       "      <td>Lime Crime</td>\n",
       "      <td>7</td>\n",
       "    </tr>\n",
       "  </tbody>\n",
       "</table>\n",
       "</div>"
      ],
      "text/plain": [
       "      Product Brand  Qty\n",
       "4   Nykaa Cosmetics   17\n",
       "21         Himalaya   17\n",
       "48            Lakme   14\n",
       "30         Biotique   11\n",
       "60   Nykaa Naturals   11\n",
       "6             Nivea   10\n",
       "7     Lotus Herbals    9\n",
       "1     L'Oreal Paris    8\n",
       "86       Kay Beauty    8\n",
       "11       Lime Crime    7"
      ]
     },
     "execution_count": 16,
     "metadata": {},
     "output_type": "execute_result"
    }
   ],
   "source": [
    "new_df=df[0:10]\n",
    "new_df"
   ]
  },
  {
   "cell_type": "markdown",
   "id": "8961c7cd",
   "metadata": {
    "papermill": {
     "duration": 0.042701,
     "end_time": "2021-10-07T18:06:49.123025",
     "exception": false,
     "start_time": "2021-10-07T18:06:49.080324",
     "status": "completed"
    },
    "tags": []
   },
   "source": [
    "## Visualising top reviewed brands"
   ]
  },
  {
   "cell_type": "code",
   "execution_count": 17,
   "id": "3a91a33f",
   "metadata": {
    "execution": {
     "iopub.execute_input": "2021-10-07T18:06:49.250249Z",
     "iopub.status.busy": "2021-10-07T18:06:49.248315Z",
     "iopub.status.idle": "2021-10-07T18:06:49.487163Z",
     "shell.execute_reply": "2021-10-07T18:06:49.486597Z",
     "shell.execute_reply.started": "2021-10-07T18:06:04.915625Z"
    },
    "papermill": {
     "duration": 0.320107,
     "end_time": "2021-10-07T18:06:49.487307",
     "exception": false,
     "start_time": "2021-10-07T18:06:49.167200",
     "status": "completed"
    },
    "tags": []
   },
   "outputs": [
    {
     "data": {
      "text/plain": [
       "Text(0.5, 1.0, 'Top 10 brands')"
      ]
     },
     "execution_count": 17,
     "metadata": {},
     "output_type": "execute_result"
    },
    {
     "data": {
      "image/png": "[encoded data removed]",
      "text/plain": [
       "<Figure size 792x576 with 1 Axes>"
      ]
     },
     "metadata": {},
     "output_type": "display_data"
    }
   ],
   "source": [
    "sns.set(rc = {'figure.figsize':(11,8)}) # Controlling the size of plot\n",
    "ax=sns.pointplot(data=new_df, y='Product Brand', x='Qty')\n",
    "ax.set_title ('Top 10 brands') "
   ]
  },
  {
   "cell_type": "code",
   "execution_count": 18,
   "id": "7f482f95",
   "metadata": {
    "execution": {
     "iopub.execute_input": "2021-10-07T18:06:49.609367Z",
     "iopub.status.busy": "2021-10-07T18:06:49.608366Z",
     "iopub.status.idle": "2021-10-07T18:06:49.899539Z",
     "shell.execute_reply": "2021-10-07T18:06:49.900079Z",
     "shell.execute_reply.started": "2021-10-07T18:06:05.224635Z"
    },
    "papermill": {
     "duration": 0.368157,
     "end_time": "2021-10-07T18:06:49.900259",
     "exception": false,
     "start_time": "2021-10-07T18:06:49.532102",
     "status": "completed"
    },
    "tags": []
   },
   "outputs": [
    {
     "data": {
      "text/plain": [
       "Text(0.5, 1.0, 'Top 10 brands')"
      ]
     },
     "execution_count": 18,
     "metadata": {},
     "output_type": "execute_result"
    },
    {
     "data": {
      "image/png": "[encoded data removed]",
      "text/plain": [
       "<Figure size 792x576 with 1 Axes>"
      ]
     },
     "metadata": {},
     "output_type": "display_data"
    }
   ],
   "source": [
    "sns.set(rc = {'figure.figsize':(11,8)}) # Controlling the size of plot\n",
    "ax=sns.barplot(data=new_df, y='Product Brand', x='Qty')\n",
    "ax.set_title ('Top 10 brands') "
   ]
  },
  {
   "cell_type": "code",
   "execution_count": 19,
   "id": "b5179f88",
   "metadata": {
    "execution": {
     "iopub.execute_input": "2021-10-07T18:06:49.999144Z",
     "iopub.status.busy": "2021-10-07T18:06:49.998420Z",
     "iopub.status.idle": "2021-10-07T18:06:50.000378Z",
     "shell.execute_reply": "2021-10-07T18:06:50.000895Z",
     "shell.execute_reply.started": "2021-10-07T18:06:05.573969Z"
    },
    "papermill": {
     "duration": 0.05474,
     "end_time": "2021-10-07T18:06:50.001077",
     "exception": false,
     "start_time": "2021-10-07T18:06:49.946337",
     "status": "completed"
    },
    "tags": []
   },
   "outputs": [],
   "source": [
    "df1=useful_features[['Product Brand','Product Price','Product Rating']]"
   ]
  },
  {
   "cell_type": "code",
   "execution_count": 20,
   "id": "68f45853",
   "metadata": {
    "execution": {
     "iopub.execute_input": "2021-10-07T18:06:50.097954Z",
     "iopub.status.busy": "2021-10-07T18:06:50.097322Z",
     "iopub.status.idle": "2021-10-07T18:06:50.109586Z",
     "shell.execute_reply": "2021-10-07T18:06:50.110103Z",
     "shell.execute_reply.started": "2021-10-07T18:06:05.582563Z"
    },
    "papermill": {
     "duration": 0.062051,
     "end_time": "2021-10-07T18:06:50.110279",
     "exception": false,
     "start_time": "2021-10-07T18:06:50.048228",
     "status": "completed"
    },
    "tags": []
   },
   "outputs": [
    {
     "name": "stdout",
     "output_type": "stream",
     "text": [
      "      Product Brand  Product Price  Product Rating\n",
      "496     Bobbi Brown         7900.0             4.5\n",
      "18          CADIVEU         7000.0             4.3\n",
      "388         CADIVEU         7000.0             5.0\n",
      "109        Guerlain         6125.0             4.7\n",
      "349      L'Occitane         5800.0             4.3\n",
      "..              ...            ...             ...\n",
      "605        Himalaya           41.0             4.5\n",
      "115       KamaSutra           40.0             4.1\n",
      "87         Himalaya           33.0             4.2\n",
      "448           Liril           32.0             4.4\n",
      "486  Godrej Protekt           25.0             4.4\n",
      "\n",
      "[486 rows x 3 columns]\n"
     ]
    },
    {
     "name": "stderr",
     "output_type": "stream",
     "text": [
      "/opt/conda/lib/python3.7/site-packages/ipykernel_launcher.py:2: SettingWithCopyWarning: \n",
      "A value is trying to be set on a copy of a slice from a DataFrame\n",
      "\n",
      "See the caveats in the documentation: https://pandas.pydata.org/pandas-docs/stable/user_guide/indexing.html#returning-a-view-versus-a-copy\n",
      "  \n"
     ]
    }
   ],
   "source": [
    "# Finding the most costliest brands\n",
    "df1.sort_values (by=\"Product Price\", ascending = False,inplace=True)\n",
    "print(df1)"
   ]
  },
  {
   "cell_type": "code",
   "execution_count": 21,
   "id": "f463548a",
   "metadata": {
    "execution": {
     "iopub.execute_input": "2021-10-07T18:06:50.219711Z",
     "iopub.status.busy": "2021-10-07T18:06:50.219029Z",
     "iopub.status.idle": "2021-10-07T18:06:50.221839Z",
     "shell.execute_reply": "2021-10-07T18:06:50.222278Z",
     "shell.execute_reply.started": "2021-10-07T18:06:05.601133Z"
    },
    "papermill": {
     "duration": 0.064839,
     "end_time": "2021-10-07T18:06:50.222448",
     "exception": false,
     "start_time": "2021-10-07T18:06:50.157609",
     "status": "completed"
    },
    "tags": []
   },
   "outputs": [
    {
     "data": {
      "text/html": [
       "<div>\n",
       "<style scoped>\n",
       "    .dataframe tbody tr th:only-of-type {\n",
       "        vertical-align: middle;\n",
       "    }\n",
       "\n",
       "    .dataframe tbody tr th {\n",
       "        vertical-align: top;\n",
       "    }\n",
       "\n",
       "    .dataframe thead th {\n",
       "        text-align: right;\n",
       "    }\n",
       "</style>\n",
       "<table border=\"1\" class=\"dataframe\">\n",
       "  <thead>\n",
       "    <tr style=\"text-align: right;\">\n",
       "      <th></th>\n",
       "      <th>Product Brand</th>\n",
       "      <th>Product Price</th>\n",
       "      <th>Product Rating</th>\n",
       "    </tr>\n",
       "  </thead>\n",
       "  <tbody>\n",
       "    <tr>\n",
       "      <th>496</th>\n",
       "      <td>Bobbi Brown</td>\n",
       "      <td>7900.0</td>\n",
       "      <td>4.5</td>\n",
       "    </tr>\n",
       "    <tr>\n",
       "      <th>18</th>\n",
       "      <td>CADIVEU</td>\n",
       "      <td>7000.0</td>\n",
       "      <td>4.3</td>\n",
       "    </tr>\n",
       "    <tr>\n",
       "      <th>388</th>\n",
       "      <td>CADIVEU</td>\n",
       "      <td>7000.0</td>\n",
       "      <td>5.0</td>\n",
       "    </tr>\n",
       "    <tr>\n",
       "      <th>109</th>\n",
       "      <td>Guerlain</td>\n",
       "      <td>6125.0</td>\n",
       "      <td>4.7</td>\n",
       "    </tr>\n",
       "    <tr>\n",
       "      <th>349</th>\n",
       "      <td>L'Occitane</td>\n",
       "      <td>5800.0</td>\n",
       "      <td>4.3</td>\n",
       "    </tr>\n",
       "    <tr>\n",
       "      <th>315</th>\n",
       "      <td>L'Occitane</td>\n",
       "      <td>5800.0</td>\n",
       "      <td>4.3</td>\n",
       "    </tr>\n",
       "    <tr>\n",
       "      <th>135</th>\n",
       "      <td>Givenchy</td>\n",
       "      <td>5650.0</td>\n",
       "      <td>4.7</td>\n",
       "    </tr>\n",
       "    <tr>\n",
       "      <th>587</th>\n",
       "      <td>Charlotte Tilbury</td>\n",
       "      <td>5650.0</td>\n",
       "      <td>4.0</td>\n",
       "    </tr>\n",
       "    <tr>\n",
       "      <th>335</th>\n",
       "      <td>Dunhill</td>\n",
       "      <td>5100.0</td>\n",
       "      <td>5.0</td>\n",
       "    </tr>\n",
       "    <tr>\n",
       "      <th>394</th>\n",
       "      <td>HERMÃˆS</td>\n",
       "      <td>5050.0</td>\n",
       "      <td>4.9</td>\n",
       "    </tr>\n",
       "    <tr>\n",
       "      <th>284</th>\n",
       "      <td>Charlotte Tilbury</td>\n",
       "      <td>4900.0</td>\n",
       "      <td>4.5</td>\n",
       "    </tr>\n",
       "    <tr>\n",
       "      <th>75</th>\n",
       "      <td>Charlotte Tilbury</td>\n",
       "      <td>4900.0</td>\n",
       "      <td>4.6</td>\n",
       "    </tr>\n",
       "    <tr>\n",
       "      <th>103</th>\n",
       "      <td>Guerlain</td>\n",
       "      <td>4775.0</td>\n",
       "      <td>4.5</td>\n",
       "    </tr>\n",
       "    <tr>\n",
       "      <th>229</th>\n",
       "      <td>Montblanc</td>\n",
       "      <td>4590.0</td>\n",
       "      <td>4.6</td>\n",
       "    </tr>\n",
       "    <tr>\n",
       "      <th>572</th>\n",
       "      <td>Kenzo</td>\n",
       "      <td>4425.0</td>\n",
       "      <td>4.0</td>\n",
       "    </tr>\n",
       "    <tr>\n",
       "      <th>320</th>\n",
       "      <td>Bobbi Brown</td>\n",
       "      <td>4400.0</td>\n",
       "      <td>3.9</td>\n",
       "    </tr>\n",
       "    <tr>\n",
       "      <th>317</th>\n",
       "      <td>Issey Miyake</td>\n",
       "      <td>4122.0</td>\n",
       "      <td>4.3</td>\n",
       "    </tr>\n",
       "    <tr>\n",
       "      <th>30</th>\n",
       "      <td>O3+</td>\n",
       "      <td>4000.0</td>\n",
       "      <td>4.0</td>\n",
       "    </tr>\n",
       "    <tr>\n",
       "      <th>514</th>\n",
       "      <td>QUINOAPLEX R3</td>\n",
       "      <td>3999.0</td>\n",
       "      <td>4.0</td>\n",
       "    </tr>\n",
       "    <tr>\n",
       "      <th>203</th>\n",
       "      <td>Bobbi Brown</td>\n",
       "      <td>3950.0</td>\n",
       "      <td>4.1</td>\n",
       "    </tr>\n",
       "  </tbody>\n",
       "</table>\n",
       "</div>"
      ],
      "text/plain": [
       "         Product Brand  Product Price  Product Rating\n",
       "496        Bobbi Brown         7900.0             4.5\n",
       "18             CADIVEU         7000.0             4.3\n",
       "388            CADIVEU         7000.0             5.0\n",
       "109           Guerlain         6125.0             4.7\n",
       "349         L'Occitane         5800.0             4.3\n",
       "315         L'Occitane         5800.0             4.3\n",
       "135           Givenchy         5650.0             4.7\n",
       "587  Charlotte Tilbury         5650.0             4.0\n",
       "335            Dunhill         5100.0             5.0\n",
       "394            HERMÃˆS         5050.0             4.9\n",
       "284  Charlotte Tilbury         4900.0             4.5\n",
       "75   Charlotte Tilbury         4900.0             4.6\n",
       "103           Guerlain         4775.0             4.5\n",
       "229          Montblanc         4590.0             4.6\n",
       "572              Kenzo         4425.0             4.0\n",
       "320        Bobbi Brown         4400.0             3.9\n",
       "317       Issey Miyake         4122.0             4.3\n",
       "30                 O3+         4000.0             4.0\n",
       "514      QUINOAPLEX R3         3999.0             4.0\n",
       "203        Bobbi Brown         3950.0             4.1"
      ]
     },
     "execution_count": 21,
     "metadata": {},
     "output_type": "execute_result"
    }
   ],
   "source": [
    "new_df=df1[:20]\n",
    "new_df"
   ]
  },
  {
   "cell_type": "code",
   "execution_count": 22,
   "id": "b6af9e01",
   "metadata": {
    "execution": {
     "iopub.execute_input": "2021-10-07T18:06:50.321320Z",
     "iopub.status.busy": "2021-10-07T18:06:50.320649Z",
     "iopub.status.idle": "2021-10-07T18:06:50.335491Z",
     "shell.execute_reply": "2021-10-07T18:06:50.334857Z",
     "shell.execute_reply.started": "2021-10-07T18:06:05.623724Z"
    },
    "papermill": {
     "duration": 0.065291,
     "end_time": "2021-10-07T18:06:50.335649",
     "exception": false,
     "start_time": "2021-10-07T18:06:50.270358",
     "status": "completed"
    },
    "tags": []
   },
   "outputs": [
    {
     "data": {
      "text/html": [
       "<div>\n",
       "<style scoped>\n",
       "    .dataframe tbody tr th:only-of-type {\n",
       "        vertical-align: middle;\n",
       "    }\n",
       "\n",
       "    .dataframe tbody tr th {\n",
       "        vertical-align: top;\n",
       "    }\n",
       "\n",
       "    .dataframe thead th {\n",
       "        text-align: right;\n",
       "    }\n",
       "</style>\n",
       "<table border=\"1\" class=\"dataframe\">\n",
       "  <thead>\n",
       "    <tr style=\"text-align: right;\">\n",
       "      <th></th>\n",
       "      <th>Product Brand</th>\n",
       "      <th>Product Price</th>\n",
       "      <th>Product Rating</th>\n",
       "    </tr>\n",
       "  </thead>\n",
       "  <tbody>\n",
       "    <tr>\n",
       "      <th>496</th>\n",
       "      <td>Bobbi Brown</td>\n",
       "      <td>7900.0</td>\n",
       "      <td>4.5</td>\n",
       "    </tr>\n",
       "    <tr>\n",
       "      <th>18</th>\n",
       "      <td>CADIVEU</td>\n",
       "      <td>7000.0</td>\n",
       "      <td>4.3</td>\n",
       "    </tr>\n",
       "    <tr>\n",
       "      <th>109</th>\n",
       "      <td>Guerlain</td>\n",
       "      <td>6125.0</td>\n",
       "      <td>4.7</td>\n",
       "    </tr>\n",
       "    <tr>\n",
       "      <th>349</th>\n",
       "      <td>L'Occitane</td>\n",
       "      <td>5800.0</td>\n",
       "      <td>4.3</td>\n",
       "    </tr>\n",
       "    <tr>\n",
       "      <th>135</th>\n",
       "      <td>Givenchy</td>\n",
       "      <td>5650.0</td>\n",
       "      <td>4.7</td>\n",
       "    </tr>\n",
       "    <tr>\n",
       "      <th>587</th>\n",
       "      <td>Charlotte Tilbury</td>\n",
       "      <td>5650.0</td>\n",
       "      <td>4.0</td>\n",
       "    </tr>\n",
       "    <tr>\n",
       "      <th>335</th>\n",
       "      <td>Dunhill</td>\n",
       "      <td>5100.0</td>\n",
       "      <td>5.0</td>\n",
       "    </tr>\n",
       "    <tr>\n",
       "      <th>394</th>\n",
       "      <td>HERMÃˆS</td>\n",
       "      <td>5050.0</td>\n",
       "      <td>4.9</td>\n",
       "    </tr>\n",
       "    <tr>\n",
       "      <th>229</th>\n",
       "      <td>Montblanc</td>\n",
       "      <td>4590.0</td>\n",
       "      <td>4.6</td>\n",
       "    </tr>\n",
       "    <tr>\n",
       "      <th>572</th>\n",
       "      <td>Kenzo</td>\n",
       "      <td>4425.0</td>\n",
       "      <td>4.0</td>\n",
       "    </tr>\n",
       "    <tr>\n",
       "      <th>317</th>\n",
       "      <td>Issey Miyake</td>\n",
       "      <td>4122.0</td>\n",
       "      <td>4.3</td>\n",
       "    </tr>\n",
       "    <tr>\n",
       "      <th>30</th>\n",
       "      <td>O3+</td>\n",
       "      <td>4000.0</td>\n",
       "      <td>4.0</td>\n",
       "    </tr>\n",
       "    <tr>\n",
       "      <th>514</th>\n",
       "      <td>QUINOAPLEX R3</td>\n",
       "      <td>3999.0</td>\n",
       "      <td>4.0</td>\n",
       "    </tr>\n",
       "  </tbody>\n",
       "</table>\n",
       "</div>"
      ],
      "text/plain": [
       "         Product Brand  Product Price  Product Rating\n",
       "496        Bobbi Brown         7900.0             4.5\n",
       "18             CADIVEU         7000.0             4.3\n",
       "109           Guerlain         6125.0             4.7\n",
       "349         L'Occitane         5800.0             4.3\n",
       "135           Givenchy         5650.0             4.7\n",
       "587  Charlotte Tilbury         5650.0             4.0\n",
       "335            Dunhill         5100.0             5.0\n",
       "394            HERMÃˆS         5050.0             4.9\n",
       "229          Montblanc         4590.0             4.6\n",
       "572              Kenzo         4425.0             4.0\n",
       "317       Issey Miyake         4122.0             4.3\n",
       "30                 O3+         4000.0             4.0\n",
       "514      QUINOAPLEX R3         3999.0             4.0"
      ]
     },
     "execution_count": 22,
     "metadata": {},
     "output_type": "execute_result"
    }
   ],
   "source": [
    "# Remove duplicate products having same brand\n",
    "df_no_duplicates=new_df.drop_duplicates(subset=['Product Brand']) \n",
    "df_no_duplicates"
   ]
  },
  {
   "cell_type": "markdown",
   "id": "2e1698ef",
   "metadata": {
    "papermill": {
     "duration": 0.0497,
     "end_time": "2021-10-07T18:06:50.434401",
     "exception": false,
     "start_time": "2021-10-07T18:06:50.384701",
     "status": "completed"
    },
    "tags": []
   },
   "source": [
    "## Finding the most costliest brands"
   ]
  },
  {
   "cell_type": "code",
   "execution_count": 23,
   "id": "8ddb6d32",
   "metadata": {
    "execution": {
     "iopub.execute_input": "2021-10-07T18:06:50.534668Z",
     "iopub.status.busy": "2021-10-07T18:06:50.534036Z",
     "iopub.status.idle": "2021-10-07T18:06:50.899441Z",
     "shell.execute_reply": "2021-10-07T18:06:50.898941Z",
     "shell.execute_reply.started": "2021-10-07T18:06:05.646733Z"
    },
    "papermill": {
     "duration": 0.416499,
     "end_time": "2021-10-07T18:06:50.899581",
     "exception": false,
     "start_time": "2021-10-07T18:06:50.483082",
     "status": "completed"
    },
    "tags": []
   },
   "outputs": [
    {
     "data": {
      "text/plain": [
       "Text(0.5, 1.0, 'Most costliest brands')"
      ]
     },
     "execution_count": 23,
     "metadata": {},
     "output_type": "execute_result"
    },
    {
     "data": {
      "image/png": "[encoded data removed]",
      "text/plain": [
       "<Figure size 1440x720 with 1 Axes>"
      ]
     },
     "metadata": {},
     "output_type": "display_data"
    }
   ],
   "source": [
    "## Ordering by price\n",
    "sns.set(rc = {'figure.figsize':(20,10)})\n",
    "ax=sns.barplot(data=df_no_duplicates, x='Product Brand',y='Product Price')\n",
    "ax.set_title(\"Most costliest brands\")"
   ]
  },
  {
   "cell_type": "code",
   "execution_count": 24,
   "id": "b053770a",
   "metadata": {
    "execution": {
     "iopub.execute_input": "2021-10-07T18:06:51.041487Z",
     "iopub.status.busy": "2021-10-07T18:06:51.040634Z",
     "iopub.status.idle": "2021-10-07T18:06:51.347464Z",
     "shell.execute_reply": "2021-10-07T18:06:51.346955Z",
     "shell.execute_reply.started": "2021-10-07T18:06:06.031761Z"
    },
    "papermill": {
     "duration": 0.397263,
     "end_time": "2021-10-07T18:06:51.347605",
     "exception": false,
     "start_time": "2021-10-07T18:06:50.950342",
     "status": "completed"
    },
    "tags": []
   },
   "outputs": [
    {
     "data": {
      "text/plain": [
       "Text(0.5, 1.0, 'Most costliest brands')"
      ]
     },
     "execution_count": 24,
     "metadata": {},
     "output_type": "execute_result"
    },
    {
     "data": {
      "image/png": "[encoded data removed]",
      "text/plain": [
       "<Figure size 1440x576 with 1 Axes>"
      ]
     },
     "metadata": {},
     "output_type": "display_data"
    }
   ],
   "source": [
    "## Ordering by price\n",
    "sns.set(rc = {'figure.figsize':(20,8)})\n",
    "ax=sns.pointplot(data=df_no_duplicates, x='Product Brand',y='Product Price')\n",
    "ax.set_title(\"Most costliest brands\")"
   ]
  },
  {
   "cell_type": "code",
   "execution_count": 25,
   "id": "1cb188d8",
   "metadata": {
    "execution": {
     "iopub.execute_input": "2021-10-07T18:06:51.459890Z",
     "iopub.status.busy": "2021-10-07T18:06:51.458995Z",
     "iopub.status.idle": "2021-10-07T18:06:51.476083Z",
     "shell.execute_reply": "2021-10-07T18:06:51.476563Z",
     "shell.execute_reply.started": "2021-10-07T18:06:06.371779Z"
    },
    "papermill": {
     "duration": 0.07743,
     "end_time": "2021-10-07T18:06:51.476738",
     "exception": false,
     "start_time": "2021-10-07T18:06:51.399308",
     "status": "completed"
    },
    "tags": []
   },
   "outputs": [
    {
     "data": {
      "text/html": [
       "<div>\n",
       "<style scoped>\n",
       "    .dataframe tbody tr th:only-of-type {\n",
       "        vertical-align: middle;\n",
       "    }\n",
       "\n",
       "    .dataframe tbody tr th {\n",
       "        vertical-align: top;\n",
       "    }\n",
       "\n",
       "    .dataframe thead th {\n",
       "        text-align: right;\n",
       "    }\n",
       "</style>\n",
       "<table border=\"1\" class=\"dataframe\">\n",
       "  <thead>\n",
       "    <tr style=\"text-align: right;\">\n",
       "      <th></th>\n",
       "      <th>Product Brand</th>\n",
       "      <th>Product Price</th>\n",
       "      <th>Product Rating</th>\n",
       "    </tr>\n",
       "  </thead>\n",
       "  <tbody>\n",
       "    <tr>\n",
       "      <th>388</th>\n",
       "      <td>CADIVEU</td>\n",
       "      <td>7000.0</td>\n",
       "      <td>5.0</td>\n",
       "    </tr>\n",
       "    <tr>\n",
       "      <th>335</th>\n",
       "      <td>Dunhill</td>\n",
       "      <td>5100.0</td>\n",
       "      <td>5.0</td>\n",
       "    </tr>\n",
       "    <tr>\n",
       "      <th>518</th>\n",
       "      <td>Burberry</td>\n",
       "      <td>3680.0</td>\n",
       "      <td>5.0</td>\n",
       "    </tr>\n",
       "    <tr>\n",
       "      <th>28</th>\n",
       "      <td>Burberry</td>\n",
       "      <td>3680.0</td>\n",
       "      <td>5.0</td>\n",
       "    </tr>\n",
       "    <tr>\n",
       "      <th>557</th>\n",
       "      <td>PRADA</td>\n",
       "      <td>3559.0</td>\n",
       "      <td>5.0</td>\n",
       "    </tr>\n",
       "    <tr>\n",
       "      <th>...</th>\n",
       "      <td>...</td>\n",
       "      <td>...</td>\n",
       "      <td>...</td>\n",
       "    </tr>\n",
       "    <tr>\n",
       "      <th>191</th>\n",
       "      <td>Paese Cosmetics</td>\n",
       "      <td>1499.0</td>\n",
       "      <td>2.0</td>\n",
       "    </tr>\n",
       "    <tr>\n",
       "      <th>138</th>\n",
       "      <td>IsaDora</td>\n",
       "      <td>810.0</td>\n",
       "      <td>2.0</td>\n",
       "    </tr>\n",
       "    <tr>\n",
       "      <th>116</th>\n",
       "      <td>As-It-Is Nutrition</td>\n",
       "      <td>576.0</td>\n",
       "      <td>2.0</td>\n",
       "    </tr>\n",
       "    <tr>\n",
       "      <th>147</th>\n",
       "      <td>First Water</td>\n",
       "      <td>269.0</td>\n",
       "      <td>2.0</td>\n",
       "    </tr>\n",
       "    <tr>\n",
       "      <th>216</th>\n",
       "      <td>Ellement Co.</td>\n",
       "      <td>325.0</td>\n",
       "      <td>1.0</td>\n",
       "    </tr>\n",
       "  </tbody>\n",
       "</table>\n",
       "<p>486 rows × 3 columns</p>\n",
       "</div>"
      ],
      "text/plain": [
       "          Product Brand  Product Price  Product Rating\n",
       "388             CADIVEU         7000.0             5.0\n",
       "335             Dunhill         5100.0             5.0\n",
       "518            Burberry         3680.0             5.0\n",
       "28             Burberry         3680.0             5.0\n",
       "557               PRADA         3559.0             5.0\n",
       "..                  ...            ...             ...\n",
       "191     Paese Cosmetics         1499.0             2.0\n",
       "138             IsaDora          810.0             2.0\n",
       "116  As-It-Is Nutrition          576.0             2.0\n",
       "147         First Water          269.0             2.0\n",
       "216        Ellement Co.          325.0             1.0\n",
       "\n",
       "[486 rows x 3 columns]"
      ]
     },
     "execution_count": 25,
     "metadata": {},
     "output_type": "execute_result"
    }
   ],
   "source": [
    "df_rating=df1.sort_values(by=['Product Rating','Product Price'], ascending=False)\n",
    "df_rating"
   ]
  },
  {
   "cell_type": "code",
   "execution_count": 26,
   "id": "fc30a01d",
   "metadata": {
    "execution": {
     "iopub.execute_input": "2021-10-07T18:06:51.584693Z",
     "iopub.status.busy": "2021-10-07T18:06:51.583748Z",
     "iopub.status.idle": "2021-10-07T18:06:51.648408Z",
     "shell.execute_reply": "2021-10-07T18:06:51.647901Z",
     "shell.execute_reply.started": "2021-10-07T18:06:06.392143Z"
    },
    "papermill": {
     "duration": 0.119959,
     "end_time": "2021-10-07T18:06:51.648552",
     "exception": false,
     "start_time": "2021-10-07T18:06:51.528593",
     "status": "completed"
    },
    "tags": []
   },
   "outputs": [
    {
     "name": "stdout",
     "output_type": "stream",
     "text": [
      "No.of 5 star ratings: 47\n",
      "No.of 4 star ratings: 356\n",
      "No.of 3 star ratings: 74\n",
      "No.of 2 star ratings: 8\n",
      "No.of 1 star ratings: 1\n",
      "Total ratings 486\n"
     ]
    }
   ],
   "source": [
    "# Finding number of 5 star ratings\n",
    "five_star=four_star= three_star= two_star= one_star=zero_star=c=0\n",
    "for row in df_rating.iterrows():\n",
    "    c+=1\n",
    "    if (row[1][2]==5.0):\n",
    "        five_star+=1\n",
    "    if (row[1][2]>=4.0 and row[1][2]<5.0):\n",
    "        four_star+=1\n",
    "    if (row[1][2]>=3.0 and row[1][2]<4.0):\n",
    "        three_star+=1\n",
    "    if (row[1][2]>=2.0 and row[1][2]<3.0):\n",
    "        two_star+=1\n",
    "    if (row[1][2]>=1.0 and row[1][2]<2.0):\n",
    "        one_star+=1\n",
    "        \n",
    "print(\"No.of 5 star ratings:\",five_star)\n",
    "print(\"No.of 4 star ratings:\",four_star)\n",
    "print(\"No.of 3 star ratings:\",three_star)\n",
    "print(\"No.of 2 star ratings:\",two_star)\n",
    "print(\"No.of 1 star ratings:\",one_star)\n",
    "        \n",
    "print(\"Total ratings\",c)"
   ]
  },
  {
   "cell_type": "markdown",
   "id": "7a71a25e",
   "metadata": {
    "papermill": {
     "duration": 0.052293,
     "end_time": "2021-10-07T18:06:51.753516",
     "exception": false,
     "start_time": "2021-10-07T18:06:51.701223",
     "status": "completed"
    },
    "tags": []
   },
   "source": [
    "## Star rating in each category"
   ]
  },
  {
   "cell_type": "code",
   "execution_count": 27,
   "id": "aedd3c3e",
   "metadata": {
    "execution": {
     "iopub.execute_input": "2021-10-07T18:06:51.871708Z",
     "iopub.status.busy": "2021-10-07T18:06:51.870871Z",
     "iopub.status.idle": "2021-10-07T18:06:51.875206Z",
     "shell.execute_reply": "2021-10-07T18:06:51.874568Z",
     "shell.execute_reply.started": "2021-10-07T18:06:06.463719Z"
    },
    "papermill": {
     "duration": 0.06861,
     "end_time": "2021-10-07T18:06:51.875342",
     "exception": false,
     "start_time": "2021-10-07T18:06:51.806732",
     "status": "completed"
    },
    "tags": []
   },
   "outputs": [
    {
     "data": {
      "text/html": [
       "<div>\n",
       "<style scoped>\n",
       "    .dataframe tbody tr th:only-of-type {\n",
       "        vertical-align: middle;\n",
       "    }\n",
       "\n",
       "    .dataframe tbody tr th {\n",
       "        vertical-align: top;\n",
       "    }\n",
       "\n",
       "    .dataframe thead th {\n",
       "        text-align: right;\n",
       "    }\n",
       "</style>\n",
       "<table border=\"1\" class=\"dataframe\">\n",
       "  <thead>\n",
       "    <tr style=\"text-align: right;\">\n",
       "      <th></th>\n",
       "      <th>Stars</th>\n",
       "      <th>Count</th>\n",
       "    </tr>\n",
       "  </thead>\n",
       "  <tbody>\n",
       "    <tr>\n",
       "      <th>0</th>\n",
       "      <td>Five Stars</td>\n",
       "      <td>47</td>\n",
       "    </tr>\n",
       "    <tr>\n",
       "      <th>1</th>\n",
       "      <td>Four Stars</td>\n",
       "      <td>356</td>\n",
       "    </tr>\n",
       "    <tr>\n",
       "      <th>2</th>\n",
       "      <td>Three Stars</td>\n",
       "      <td>74</td>\n",
       "    </tr>\n",
       "    <tr>\n",
       "      <th>3</th>\n",
       "      <td>Two Stars</td>\n",
       "      <td>8</td>\n",
       "    </tr>\n",
       "    <tr>\n",
       "      <th>4</th>\n",
       "      <td>One Stars</td>\n",
       "      <td>1</td>\n",
       "    </tr>\n",
       "  </tbody>\n",
       "</table>\n",
       "</div>"
      ],
      "text/plain": [
       "         Stars  Count\n",
       "0   Five Stars     47\n",
       "1   Four Stars    356\n",
       "2  Three Stars     74\n",
       "3    Two Stars      8\n",
       "4    One Stars      1"
      ]
     },
     "execution_count": 27,
     "metadata": {},
     "output_type": "execute_result"
    }
   ],
   "source": [
    "star_ratings_df=pd.DataFrame({\n",
    "    'Stars':['Five Stars','Four Stars','Three Stars','Two Stars','One Stars'],\n",
    "    'Count':[five_star, four_star, three_star, two_star, one_star]\n",
    "})\n",
    "star_ratings_df"
   ]
  },
  {
   "cell_type": "code",
   "execution_count": 28,
   "id": "3970dc6a",
   "metadata": {
    "execution": {
     "iopub.execute_input": "2021-10-07T18:06:52.124790Z",
     "iopub.status.busy": "2021-10-07T18:06:52.115617Z",
     "iopub.status.idle": "2021-10-07T18:06:52.295613Z",
     "shell.execute_reply": "2021-10-07T18:06:52.296160Z",
     "shell.execute_reply.started": "2021-10-07T18:06:06.477529Z"
    },
    "papermill": {
     "duration": 0.367837,
     "end_time": "2021-10-07T18:06:52.296331",
     "exception": false,
     "start_time": "2021-10-07T18:06:51.928494",
     "status": "completed"
    },
    "tags": []
   },
   "outputs": [
    {
     "data": {
      "text/plain": [
       "<AxesSubplot:xlabel='Stars', ylabel='Count'>"
      ]
     },
     "execution_count": 28,
     "metadata": {},
     "output_type": "execute_result"
    },
    {
     "data": {
      "image/png": "[encoded data removed]",
      "text/plain": [
       "<Figure size 504x504 with 1 Axes>"
      ]
     },
     "metadata": {},
     "output_type": "display_data"
    }
   ],
   "source": [
    "sns.set(rc = {'figure.figsize':(7,7)})\n",
    "sns.barplot(data=star_ratings_df, x='Stars',y='Count')"
   ]
  },
  {
   "cell_type": "code",
   "execution_count": 29,
   "id": "b9996bbd",
   "metadata": {
    "execution": {
     "iopub.execute_input": "2021-10-07T18:06:52.407637Z",
     "iopub.status.busy": "2021-10-07T18:06:52.406995Z",
     "iopub.status.idle": "2021-10-07T18:06:52.421219Z",
     "shell.execute_reply": "2021-10-07T18:06:52.420583Z",
     "shell.execute_reply.started": "2021-10-07T18:06:06.689247Z"
    },
    "papermill": {
     "duration": 0.070741,
     "end_time": "2021-10-07T18:06:52.421363",
     "exception": false,
     "start_time": "2021-10-07T18:06:52.350622",
     "status": "completed"
    },
    "tags": []
   },
   "outputs": [
    {
     "data": {
      "text/html": [
       "<div>\n",
       "<style scoped>\n",
       "    .dataframe tbody tr th:only-of-type {\n",
       "        vertical-align: middle;\n",
       "    }\n",
       "\n",
       "    .dataframe tbody tr th {\n",
       "        vertical-align: top;\n",
       "    }\n",
       "\n",
       "    .dataframe thead th {\n",
       "        text-align: right;\n",
       "    }\n",
       "</style>\n",
       "<table border=\"1\" class=\"dataframe\">\n",
       "  <thead>\n",
       "    <tr style=\"text-align: right;\">\n",
       "      <th></th>\n",
       "      <th>Product Category</th>\n",
       "      <th>Product Price</th>\n",
       "    </tr>\n",
       "  </thead>\n",
       "  <tbody>\n",
       "    <tr>\n",
       "      <th>0</th>\n",
       "      <td>Makeup &gt; Face &gt; Contour</td>\n",
       "      <td>600.0</td>\n",
       "    </tr>\n",
       "    <tr>\n",
       "      <th>1</th>\n",
       "      <td>Brand &gt; L'Oreal Paris</td>\n",
       "      <td>454.0</td>\n",
       "    </tr>\n",
       "    <tr>\n",
       "      <th>2</th>\n",
       "      <td>Makeup &gt; Face &gt; Foundation</td>\n",
       "      <td>1395.0</td>\n",
       "    </tr>\n",
       "    <tr>\n",
       "      <th>3</th>\n",
       "      <td>Health &amp; Wellness &gt; Good for You &gt; Super Food</td>\n",
       "      <td>175.0</td>\n",
       "    </tr>\n",
       "    <tr>\n",
       "      <th>4</th>\n",
       "      <td>Makeup &gt; Lips &gt; Lip Stain</td>\n",
       "      <td>539.0</td>\n",
       "    </tr>\n",
       "    <tr>\n",
       "      <th>...</th>\n",
       "      <td>...</td>\n",
       "      <td>...</td>\n",
       "    </tr>\n",
       "    <tr>\n",
       "      <th>618</th>\n",
       "      <td>Natural &gt; Types of Skin &gt; Combination Skin</td>\n",
       "      <td>274.0</td>\n",
       "    </tr>\n",
       "    <tr>\n",
       "      <th>620</th>\n",
       "      <td>Makeup &gt; Nails &gt; Nail Polish</td>\n",
       "      <td>1000.0</td>\n",
       "    </tr>\n",
       "    <tr>\n",
       "      <th>621</th>\n",
       "      <td>Makeup &gt; Eyes &gt; Under Eye Concealer</td>\n",
       "      <td>665.0</td>\n",
       "    </tr>\n",
       "    <tr>\n",
       "      <th>623</th>\n",
       "      <td>Makeup &gt; Makeup Kits &gt; Eye Palettes</td>\n",
       "      <td>675.0</td>\n",
       "    </tr>\n",
       "    <tr>\n",
       "      <th>624</th>\n",
       "      <td>Makeup &gt; Makeup Kits &gt; Customize Your Palette</td>\n",
       "      <td>1100.0</td>\n",
       "    </tr>\n",
       "  </tbody>\n",
       "</table>\n",
       "<p>486 rows × 2 columns</p>\n",
       "</div>"
      ],
      "text/plain": [
       "                                  Product Category  Product Price\n",
       "0                          Makeup > Face > Contour          600.0\n",
       "1                            Brand > L'Oreal Paris          454.0\n",
       "2                       Makeup > Face > Foundation         1395.0\n",
       "3    Health & Wellness > Good for You > Super Food          175.0\n",
       "4                        Makeup > Lips > Lip Stain          539.0\n",
       "..                                             ...            ...\n",
       "618     Natural > Types of Skin > Combination Skin          274.0\n",
       "620                   Makeup > Nails > Nail Polish         1000.0\n",
       "621            Makeup > Eyes > Under Eye Concealer          665.0\n",
       "623            Makeup > Makeup Kits > Eye Palettes          675.0\n",
       "624  Makeup > Makeup Kits > Customize Your Palette         1100.0\n",
       "\n",
       "[486 rows x 2 columns]"
      ]
     },
     "execution_count": 29,
     "metadata": {},
     "output_type": "execute_result"
    }
   ],
   "source": [
    "df=useful_features[['Product Category','Product Price']]\n",
    "df"
   ]
  },
  {
   "cell_type": "code",
   "execution_count": 30,
   "id": "2a2d9ba3",
   "metadata": {
    "execution": {
     "iopub.execute_input": "2021-10-07T18:06:52.536274Z",
     "iopub.status.busy": "2021-10-07T18:06:52.535286Z",
     "iopub.status.idle": "2021-10-07T18:06:52.543147Z",
     "shell.execute_reply": "2021-10-07T18:06:52.543616Z",
     "shell.execute_reply.started": "2021-10-07T18:06:06.705994Z"
    },
    "papermill": {
     "duration": 0.067423,
     "end_time": "2021-10-07T18:06:52.543813",
     "exception": false,
     "start_time": "2021-10-07T18:06:52.476390",
     "status": "completed"
    },
    "tags": []
   },
   "outputs": [
    {
     "name": "stdout",
     "output_type": "stream",
     "text": [
      "['Makeup', '>', 'Face', '>', 'Contour']\n",
      "Contour\n"
     ]
    }
   ],
   "source": [
    "itm=df['Product Category'][0]\n",
    "word_arr=itm.split(\" \")\n",
    "print(word_arr)\n",
    "print(word_arr[-1])"
   ]
  },
  {
   "cell_type": "code",
   "execution_count": 31,
   "id": "a407770f",
   "metadata": {
    "execution": {
     "iopub.execute_input": "2021-10-07T18:06:52.684410Z",
     "iopub.status.busy": "2021-10-07T18:06:52.679290Z",
     "iopub.status.idle": "2021-10-07T18:06:52.710854Z",
     "shell.execute_reply": "2021-10-07T18:06:52.711344Z",
     "shell.execute_reply.started": "2021-10-07T18:06:06.718135Z"
    },
    "papermill": {
     "duration": 0.11258,
     "end_time": "2021-10-07T18:06:52.711508",
     "exception": false,
     "start_time": "2021-10-07T18:06:52.598928",
     "status": "completed"
    },
    "tags": []
   },
   "outputs": [
    {
     "data": {
      "text/html": [
       "<div>\n",
       "<style scoped>\n",
       "    .dataframe tbody tr th:only-of-type {\n",
       "        vertical-align: middle;\n",
       "    }\n",
       "\n",
       "    .dataframe tbody tr th {\n",
       "        vertical-align: top;\n",
       "    }\n",
       "\n",
       "    .dataframe thead th {\n",
       "        text-align: right;\n",
       "    }\n",
       "</style>\n",
       "<table border=\"1\" class=\"dataframe\">\n",
       "  <thead>\n",
       "    <tr style=\"text-align: right;\">\n",
       "      <th></th>\n",
       "      <th>Item</th>\n",
       "    </tr>\n",
       "  </thead>\n",
       "  <tbody>\n",
       "    <tr>\n",
       "      <th>0</th>\n",
       "      <td>Contour</td>\n",
       "    </tr>\n",
       "    <tr>\n",
       "      <th>1</th>\n",
       "      <td>Paris</td>\n",
       "    </tr>\n",
       "    <tr>\n",
       "      <th>2</th>\n",
       "      <td>Foundation</td>\n",
       "    </tr>\n",
       "    <tr>\n",
       "      <th>3</th>\n",
       "      <td>Food</td>\n",
       "    </tr>\n",
       "    <tr>\n",
       "      <th>4</th>\n",
       "      <td>Stain</td>\n",
       "    </tr>\n",
       "    <tr>\n",
       "      <th>...</th>\n",
       "      <td>...</td>\n",
       "    </tr>\n",
       "    <tr>\n",
       "      <th>481</th>\n",
       "      <td>Skin</td>\n",
       "    </tr>\n",
       "    <tr>\n",
       "      <th>482</th>\n",
       "      <td>Polish</td>\n",
       "    </tr>\n",
       "    <tr>\n",
       "      <th>483</th>\n",
       "      <td>Concealer</td>\n",
       "    </tr>\n",
       "    <tr>\n",
       "      <th>484</th>\n",
       "      <td>Palettes</td>\n",
       "    </tr>\n",
       "    <tr>\n",
       "      <th>485</th>\n",
       "      <td>Palette</td>\n",
       "    </tr>\n",
       "  </tbody>\n",
       "</table>\n",
       "<p>486 rows × 1 columns</p>\n",
       "</div>"
      ],
      "text/plain": [
       "           Item\n",
       "0       Contour\n",
       "1         Paris\n",
       "2    Foundation\n",
       "3          Food\n",
       "4         Stain\n",
       "..          ...\n",
       "481        Skin\n",
       "482      Polish\n",
       "483   Concealer\n",
       "484    Palettes\n",
       "485     Palette\n",
       "\n",
       "[486 rows x 1 columns]"
      ]
     },
     "execution_count": 31,
     "metadata": {},
     "output_type": "execute_result"
    }
   ],
   "source": [
    "items=[]\n",
    "for row in df.iterrows():\n",
    "    word_arr=(row[1][0]).split(\" \")\n",
    "    itm_name=word_arr[-1]\n",
    "    itm_category=word_arr[-3]\n",
    "    # print(itm_name)\n",
    "    items.append(itm_name)\n",
    "\n",
    "\n",
    "df_items=pd.DataFrame({\n",
    "    'Item':items,\n",
    "})\n",
    "df_items"
   ]
  },
  {
   "cell_type": "code",
   "execution_count": 32,
   "id": "de1cd2dc",
   "metadata": {
    "execution": {
     "iopub.execute_input": "2021-10-07T18:06:52.837946Z",
     "iopub.status.busy": "2021-10-07T18:06:52.837310Z",
     "iopub.status.idle": "2021-10-07T18:06:52.840651Z",
     "shell.execute_reply": "2021-10-07T18:06:52.841140Z",
     "shell.execute_reply.started": "2021-10-07T18:06:06.779056Z"
    },
    "papermill": {
     "duration": 0.074001,
     "end_time": "2021-10-07T18:06:52.841304",
     "exception": false,
     "start_time": "2021-10-07T18:06:52.767303",
     "status": "completed"
    },
    "tags": []
   },
   "outputs": [
    {
     "data": {
      "text/html": [
       "<div>\n",
       "<style scoped>\n",
       "    .dataframe tbody tr th:only-of-type {\n",
       "        vertical-align: middle;\n",
       "    }\n",
       "\n",
       "    .dataframe tbody tr th {\n",
       "        vertical-align: top;\n",
       "    }\n",
       "\n",
       "    .dataframe thead th {\n",
       "        text-align: right;\n",
       "    }\n",
       "</style>\n",
       "<table border=\"1\" class=\"dataframe\">\n",
       "  <thead>\n",
       "    <tr style=\"text-align: right;\">\n",
       "      <th></th>\n",
       "      <th>Item</th>\n",
       "      <th>Product Price</th>\n",
       "    </tr>\n",
       "  </thead>\n",
       "  <tbody>\n",
       "    <tr>\n",
       "      <th>0</th>\n",
       "      <td>Contour</td>\n",
       "      <td>600.0</td>\n",
       "    </tr>\n",
       "    <tr>\n",
       "      <th>1</th>\n",
       "      <td>Paris</td>\n",
       "      <td>454.0</td>\n",
       "    </tr>\n",
       "    <tr>\n",
       "      <th>2</th>\n",
       "      <td>Foundation</td>\n",
       "      <td>1395.0</td>\n",
       "    </tr>\n",
       "    <tr>\n",
       "      <th>3</th>\n",
       "      <td>Food</td>\n",
       "      <td>175.0</td>\n",
       "    </tr>\n",
       "    <tr>\n",
       "      <th>4</th>\n",
       "      <td>Stain</td>\n",
       "      <td>539.0</td>\n",
       "    </tr>\n",
       "    <tr>\n",
       "      <th>...</th>\n",
       "      <td>...</td>\n",
       "      <td>...</td>\n",
       "    </tr>\n",
       "    <tr>\n",
       "      <th>481</th>\n",
       "      <td>Skin</td>\n",
       "      <td>45.0</td>\n",
       "    </tr>\n",
       "    <tr>\n",
       "      <th>482</th>\n",
       "      <td>Polish</td>\n",
       "      <td>249.0</td>\n",
       "    </tr>\n",
       "    <tr>\n",
       "      <th>483</th>\n",
       "      <td>Concealer</td>\n",
       "      <td>75.0</td>\n",
       "    </tr>\n",
       "    <tr>\n",
       "      <th>484</th>\n",
       "      <td>Palettes</td>\n",
       "      <td>594.0</td>\n",
       "    </tr>\n",
       "    <tr>\n",
       "      <th>485</th>\n",
       "      <td>Palette</td>\n",
       "      <td>NaN</td>\n",
       "    </tr>\n",
       "  </tbody>\n",
       "</table>\n",
       "<p>486 rows × 2 columns</p>\n",
       "</div>"
      ],
      "text/plain": [
       "           Item  Product Price\n",
       "0       Contour          600.0\n",
       "1         Paris          454.0\n",
       "2    Foundation         1395.0\n",
       "3          Food          175.0\n",
       "4         Stain          539.0\n",
       "..          ...            ...\n",
       "481        Skin           45.0\n",
       "482      Polish          249.0\n",
       "483   Concealer           75.0\n",
       "484    Palettes          594.0\n",
       "485     Palette            NaN\n",
       "\n",
       "[486 rows x 2 columns]"
      ]
     },
     "execution_count": 32,
     "metadata": {},
     "output_type": "execute_result"
    }
   ],
   "source": [
    "df_items['Product Price']=df['Product Price']\n",
    "df_items"
   ]
  },
  {
   "cell_type": "code",
   "execution_count": 33,
   "id": "6c52a93c",
   "metadata": {
    "execution": {
     "iopub.execute_input": "2021-10-07T18:06:52.957682Z",
     "iopub.status.busy": "2021-10-07T18:06:52.957108Z",
     "iopub.status.idle": "2021-10-07T18:06:53.337656Z",
     "shell.execute_reply": "2021-10-07T18:06:53.338202Z",
     "shell.execute_reply.started": "2021-10-07T18:06:06.796936Z"
    },
    "papermill": {
     "duration": 0.440664,
     "end_time": "2021-10-07T18:06:53.338370",
     "exception": false,
     "start_time": "2021-10-07T18:06:52.897706",
     "status": "completed"
    },
    "tags": []
   },
   "outputs": [
    {
     "name": "stdout",
     "output_type": "stream",
     "text": [
      "          Item  Product Price\n",
      "388       Skin         7000.0\n",
      "18   (EDP/EDT)         7000.0\n",
      "109     Primer         6125.0\n",
      "315   Cleanser         5800.0\n",
      "349   Lipstick         5800.0\n",
      "..         ...            ...\n",
      "454   Naturals            NaN\n",
      "460      Gloss            NaN\n",
      "472      Blush            NaN\n",
      "475   Cleanser            NaN\n",
      "485    Palette            NaN\n",
      "\n",
      "[486 rows x 2 columns]\n"
     ]
    },
    {
     "data": {
      "text/plain": [
       "Text(0.5, 1.0, 'Listing product categories by Price ')"
      ]
     },
     "execution_count": 33,
     "metadata": {},
     "output_type": "execute_result"
    },
    {
     "data": {
      "image/png": "[encoded data removed]",
      "text/plain": [
       "<Figure size 576x576 with 1 Axes>"
      ]
     },
     "metadata": {},
     "output_type": "display_data"
    }
   ],
   "source": [
    "sns.set(rc={'figure.figsize':(8,8)})\n",
    "df_items=df_items.sort_values(by='Product Price', ascending=False)\n",
    "print(df_items)\n",
    "ax=sns.barplot(data=df_items[0:10], x='Product Price',y='Item')\n",
    "ax.set_title('Listing product categories by Price ')"
   ]
  },
  {
   "cell_type": "code",
   "execution_count": 34,
   "id": "97110a78",
   "metadata": {
    "execution": {
     "iopub.execute_input": "2021-10-07T18:06:53.456791Z",
     "iopub.status.busy": "2021-10-07T18:06:53.456182Z",
     "iopub.status.idle": "2021-10-07T18:06:53.472525Z",
     "shell.execute_reply": "2021-10-07T18:06:53.471902Z",
     "shell.execute_reply.started": "2021-10-07T18:06:07.191119Z"
    },
    "papermill": {
     "duration": 0.076638,
     "end_time": "2021-10-07T18:06:53.472653",
     "exception": false,
     "start_time": "2021-10-07T18:06:53.396015",
     "status": "completed"
    },
    "tags": []
   },
   "outputs": [
    {
     "data": {
      "text/html": [
       "<div>\n",
       "<style scoped>\n",
       "    .dataframe tbody tr th:only-of-type {\n",
       "        vertical-align: middle;\n",
       "    }\n",
       "\n",
       "    .dataframe tbody tr th {\n",
       "        vertical-align: top;\n",
       "    }\n",
       "\n",
       "    .dataframe thead th {\n",
       "        text-align: right;\n",
       "    }\n",
       "</style>\n",
       "<table border=\"1\" class=\"dataframe\">\n",
       "  <thead>\n",
       "    <tr style=\"text-align: right;\">\n",
       "      <th></th>\n",
       "      <th>Items</th>\n",
       "      <th>Qty</th>\n",
       "    </tr>\n",
       "  </thead>\n",
       "  <tbody>\n",
       "    <tr>\n",
       "      <th>4</th>\n",
       "      <td>Lipstick</td>\n",
       "      <td>40</td>\n",
       "    </tr>\n",
       "    <tr>\n",
       "      <th>0</th>\n",
       "      <td>Skin</td>\n",
       "      <td>26</td>\n",
       "    </tr>\n",
       "    <tr>\n",
       "      <th>5</th>\n",
       "      <td>Concealer</td>\n",
       "      <td>19</td>\n",
       "    </tr>\n",
       "    <tr>\n",
       "      <th>9</th>\n",
       "      <td>Nykaa</td>\n",
       "      <td>17</td>\n",
       "    </tr>\n",
       "    <tr>\n",
       "      <th>16</th>\n",
       "      <td>Cream</td>\n",
       "      <td>15</td>\n",
       "    </tr>\n",
       "    <tr>\n",
       "      <th>...</th>\n",
       "      <td>...</td>\n",
       "      <td>...</td>\n",
       "    </tr>\n",
       "    <tr>\n",
       "      <th>77</th>\n",
       "      <td>Straight</td>\n",
       "      <td>1</td>\n",
       "    </tr>\n",
       "    <tr>\n",
       "      <th>18</th>\n",
       "      <td>Mist/Spray</td>\n",
       "      <td>1</td>\n",
       "    </tr>\n",
       "    <tr>\n",
       "      <th>79</th>\n",
       "      <td>Lotion</td>\n",
       "      <td>1</td>\n",
       "    </tr>\n",
       "    <tr>\n",
       "      <th>80</th>\n",
       "      <td>Cleansers</td>\n",
       "      <td>1</td>\n",
       "    </tr>\n",
       "    <tr>\n",
       "      <th>103</th>\n",
       "      <td>Waxes</td>\n",
       "      <td>1</td>\n",
       "    </tr>\n",
       "  </tbody>\n",
       "</table>\n",
       "<p>104 rows × 2 columns</p>\n",
       "</div>"
      ],
      "text/plain": [
       "          Items  Qty\n",
       "4      Lipstick   40\n",
       "0          Skin   26\n",
       "5     Concealer   19\n",
       "9         Nykaa   17\n",
       "16        Cream   15\n",
       "..          ...  ...\n",
       "77     Straight    1\n",
       "18   Mist/Spray    1\n",
       "79       Lotion    1\n",
       "80    Cleansers    1\n",
       "103       Waxes    1\n",
       "\n",
       "[104 rows x 2 columns]"
      ]
     },
     "execution_count": 34,
     "metadata": {},
     "output_type": "execute_result"
    }
   ],
   "source": [
    "items=[]\n",
    "item_numbers=[]\n",
    "from collections import Counter\n",
    "c = Counter(df_items['Item'])\n",
    "for val in c:\n",
    "    # print (val, c.get(val))\n",
    "    items.append(val)\n",
    "    item_numbers.append(c.get(val))\n",
    "\n",
    "df_itm_cat=pd.DataFrame({\n",
    "    'Items':items,\n",
    "    'Qty':item_numbers\n",
    "})\n",
    "df_itm_cat=df_itm_cat.sort_values(by='Qty', ascending=False)\n",
    "df_itm_cat"
   ]
  },
  {
   "cell_type": "code",
   "execution_count": 35,
   "id": "9a659a5d",
   "metadata": {
    "execution": {
     "iopub.execute_input": "2021-10-07T18:06:53.593315Z",
     "iopub.status.busy": "2021-10-07T18:06:53.592324Z",
     "iopub.status.idle": "2021-10-07T18:06:54.086160Z",
     "shell.execute_reply": "2021-10-07T18:06:54.086602Z",
     "shell.execute_reply.started": "2021-10-07T18:06:07.211358Z"
    },
    "papermill": {
     "duration": 0.555491,
     "end_time": "2021-10-07T18:06:54.086793",
     "exception": false,
     "start_time": "2021-10-07T18:06:53.531302",
     "status": "completed"
    },
    "tags": []
   },
   "outputs": [
    {
     "data": {
      "text/plain": [
       "<AxesSubplot:xlabel='Qty', ylabel='Items'>"
      ]
     },
     "execution_count": 35,
     "metadata": {},
     "output_type": "execute_result"
    },
    {
     "data": {
      "image/png": "[encoded data removed]",
      "text/plain": [
       "<Figure size 1440x1080 with 1 Axes>"
      ]
     },
     "metadata": {},
     "output_type": "display_data"
    }
   ],
   "source": [
    "sns.set(rc={'figure.figsize':(20,15)})\n",
    "# sns.set_theme(style=\"white\", palette='Wistia')\n",
    "sns.barplot(data=df_itm_cat[:25], x='Qty',y='Items')"
   ]
  },
  {
   "cell_type": "markdown",
   "id": "7ccb9510",
   "metadata": {
    "papermill": {
     "duration": 0.06073,
     "end_time": "2021-10-07T18:06:54.207428",
     "exception": false,
     "start_time": "2021-10-07T18:06:54.146698",
     "status": "completed"
    },
    "tags": []
   },
   "source": [
    "## Visualising brands with maximum reviews"
   ]
  },
  {
   "cell_type": "code",
   "execution_count": 36,
   "id": "674022b5",
   "metadata": {
    "execution": {
     "iopub.execute_input": "2021-10-07T18:06:54.335873Z",
     "iopub.status.busy": "2021-10-07T18:06:54.334778Z",
     "iopub.status.idle": "2021-10-07T18:06:54.341234Z",
     "shell.execute_reply": "2021-10-07T18:06:54.341685Z",
     "shell.execute_reply.started": "2021-10-07T18:06:07.740418Z"
    },
    "papermill": {
     "duration": 0.074243,
     "end_time": "2021-10-07T18:06:54.341884",
     "exception": false,
     "start_time": "2021-10-07T18:06:54.267641",
     "status": "completed"
    },
    "tags": []
   },
   "outputs": [
    {
     "name": "stderr",
     "output_type": "stream",
     "text": [
      "/opt/conda/lib/python3.7/site-packages/ipykernel_launcher.py:2: SettingWithCopyWarning: \n",
      "A value is trying to be set on a copy of a slice from a DataFrame\n",
      "\n",
      "See the caveats in the documentation: https://pandas.pydata.org/pandas-docs/stable/user_guide/indexing.html#returning-a-view-versus-a-copy\n",
      "  \n",
      "/opt/conda/lib/python3.7/site-packages/ipykernel_launcher.py:3: SettingWithCopyWarning: \n",
      "A value is trying to be set on a copy of a slice from a DataFrame\n",
      "\n",
      "See the caveats in the documentation: https://pandas.pydata.org/pandas-docs/stable/user_guide/indexing.html#returning-a-view-versus-a-copy\n",
      "  This is separate from the ipykernel package so we can avoid doing imports until\n"
     ]
    }
   ],
   "source": [
    "df_product_and_reviews=useful_features[['Product Brand', 'Product Reviews Count']]\n",
    "df_product_and_reviews.sort_values(by='Product Reviews Count',ascending=False, inplace=True)\n",
    "df_product_and_reviews.drop_duplicates(subset=['Product Brand'], inplace=True)"
   ]
  },
  {
   "cell_type": "code",
   "execution_count": 37,
   "id": "28430371",
   "metadata": {
    "execution": {
     "iopub.execute_input": "2021-10-07T18:06:54.468338Z",
     "iopub.status.busy": "2021-10-07T18:06:54.467352Z",
     "iopub.status.idle": "2021-10-07T18:06:54.859736Z",
     "shell.execute_reply": "2021-10-07T18:06:54.860284Z",
     "shell.execute_reply.started": "2021-10-07T18:06:07.752096Z"
    },
    "papermill": {
     "duration": 0.457155,
     "end_time": "2021-10-07T18:06:54.860456",
     "exception": false,
     "start_time": "2021-10-07T18:06:54.403301",
     "status": "completed"
    },
    "tags": []
   },
   "outputs": [
    {
     "data": {
      "text/plain": [
       "Text(0.5, 1.0, 'Top reviewed product')"
      ]
     },
     "execution_count": 37,
     "metadata": {},
     "output_type": "execute_result"
    },
    {
     "data": {
      "image/png": "[encoded data removed]",
      "text/plain": [
       "<Figure size 1728x720 with 1 Axes>"
      ]
     },
     "metadata": {},
     "output_type": "display_data"
    }
   ],
   "source": [
    "sns.set(rc={'figure.figsize':(24,10)})\n",
    "ax=sns.pointplot(data=df_product_and_reviews[:15], x='Product Brand',y='Product Reviews Count')\n",
    "ax.set_title('Top reviewed product')"
   ]
  },
  {
   "cell_type": "code",
   "execution_count": 38,
   "id": "1b9e7245",
   "metadata": {
    "execution": {
     "iopub.execute_input": "2021-10-07T18:06:54.992931Z",
     "iopub.status.busy": "2021-10-07T18:06:54.992255Z",
     "iopub.status.idle": "2021-10-07T18:06:54.997076Z",
     "shell.execute_reply": "2021-10-07T18:06:54.997538Z",
     "shell.execute_reply.started": "2021-10-07T18:06:08.655932Z"
    },
    "papermill": {
     "duration": 0.074155,
     "end_time": "2021-10-07T18:06:54.997749",
     "exception": false,
     "start_time": "2021-10-07T18:06:54.923594",
     "status": "completed"
    },
    "tags": []
   },
   "outputs": [
    {
     "name": "stderr",
     "output_type": "stream",
     "text": [
      "/opt/conda/lib/python3.7/site-packages/ipykernel_launcher.py:2: SettingWithCopyWarning: \n",
      "A value is trying to be set on a copy of a slice from a DataFrame\n",
      "\n",
      "See the caveats in the documentation: https://pandas.pydata.org/pandas-docs/stable/user_guide/indexing.html#returning-a-view-versus-a-copy\n",
      "  \n"
     ]
    }
   ],
   "source": [
    "df=input_data[['Product Contents', 'Product Price', 'Product Brand']]\n",
    "df.dropna(inplace=True)\n"
   ]
  },
  {
   "cell_type": "code",
   "execution_count": 39,
   "id": "cdee7141",
   "metadata": {
    "execution": {
     "iopub.execute_input": "2021-10-07T18:06:55.138050Z",
     "iopub.status.busy": "2021-10-07T18:06:55.137371Z",
     "iopub.status.idle": "2021-10-07T18:06:55.140578Z",
     "shell.execute_reply": "2021-10-07T18:06:55.141030Z",
     "shell.execute_reply.started": "2021-10-07T18:06:08.666445Z"
    },
    "papermill": {
     "duration": 0.081152,
     "end_time": "2021-10-07T18:06:55.141205",
     "exception": false,
     "start_time": "2021-10-07T18:06:55.060053",
     "status": "completed"
    },
    "tags": []
   },
   "outputs": [
    {
     "data": {
      "text/html": [
       "<div>\n",
       "<style scoped>\n",
       "    .dataframe tbody tr th:only-of-type {\n",
       "        vertical-align: middle;\n",
       "    }\n",
       "\n",
       "    .dataframe tbody tr th {\n",
       "        vertical-align: top;\n",
       "    }\n",
       "\n",
       "    .dataframe thead th {\n",
       "        text-align: right;\n",
       "    }\n",
       "</style>\n",
       "<table border=\"1\" class=\"dataframe\">\n",
       "  <thead>\n",
       "    <tr style=\"text-align: right;\">\n",
       "      <th></th>\n",
       "      <th>Product Contents</th>\n",
       "      <th>Product Price</th>\n",
       "      <th>Product Brand</th>\n",
       "    </tr>\n",
       "  </thead>\n",
       "  <tbody>\n",
       "    <tr>\n",
       "      <th>1</th>\n",
       "      <td>G927637, Cyclopentasiloxane, Dimethicone, Isod...</td>\n",
       "      <td>454</td>\n",
       "      <td>L'Oreal Paris</td>\n",
       "    </tr>\n",
       "    <tr>\n",
       "      <th>3</th>\n",
       "      <td>Raw Sunflower Seeds</td>\n",
       "      <td>175</td>\n",
       "      <td>True Elements</td>\n",
       "    </tr>\n",
       "    <tr>\n",
       "      <th>6</th>\n",
       "      <td>Aqua, Glycerin, Dicaprylyl Ether, Alcohol Dena...</td>\n",
       "      <td>260</td>\n",
       "      <td>Nivea</td>\n",
       "    </tr>\n",
       "    <tr>\n",
       "      <th>7</th>\n",
       "      <td>Key Ingredients:Activated Charcoal (Coconut Sh...</td>\n",
       "      <td>140</td>\n",
       "      <td>Lotus Herbals</td>\n",
       "    </tr>\n",
       "    <tr>\n",
       "      <th>11</th>\n",
       "      <td>Formulated without parabens, sodium lauryl sul...</td>\n",
       "      <td>2090</td>\n",
       "      <td>Smashbox</td>\n",
       "    </tr>\n",
       "    <tr>\n",
       "      <th>...</th>\n",
       "      <td>...</td>\n",
       "      <td>...</td>\n",
       "      <td>...</td>\n",
       "    </tr>\n",
       "    <tr>\n",
       "      <th>613</th>\n",
       "      <td>Aqua/Water, Sodium Laureth Sulfate, Sodium Lau...</td>\n",
       "      <td>205</td>\n",
       "      <td>Matrix</td>\n",
       "    </tr>\n",
       "    <tr>\n",
       "      <th>615</th>\n",
       "      <td>Cocoa Butter, Avocado oil, Shea</td>\n",
       "      <td>399</td>\n",
       "      <td>VLCC</td>\n",
       "    </tr>\n",
       "    <tr>\n",
       "      <th>616</th>\n",
       "      <td>Active Ingredients: Octinoxate 3%Inactive Ingr...</td>\n",
       "      <td>1200</td>\n",
       "      <td>Physicians Formula</td>\n",
       "    </tr>\n",
       "    <tr>\n",
       "      <th>618</th>\n",
       "      <td>Aloe Vera, Chamomile ext., Carrot ext., Liquor...</td>\n",
       "      <td>274</td>\n",
       "      <td>Jovees</td>\n",
       "    </tr>\n",
       "    <tr>\n",
       "      <th>622</th>\n",
       "      <td>Creatine</td>\n",
       "      <td>389</td>\n",
       "      <td>As-It-Is Nutrition</td>\n",
       "    </tr>\n",
       "  </tbody>\n",
       "</table>\n",
       "<p>309 rows × 3 columns</p>\n",
       "</div>"
      ],
      "text/plain": [
       "                                      Product Contents Product Price  \\\n",
       "1    G927637, Cyclopentasiloxane, Dimethicone, Isod...           454   \n",
       "3                                  Raw Sunflower Seeds           175   \n",
       "6    Aqua, Glycerin, Dicaprylyl Ether, Alcohol Dena...           260   \n",
       "7    Key Ingredients:Activated Charcoal (Coconut Sh...           140   \n",
       "11   Formulated without parabens, sodium lauryl sul...          2090   \n",
       "..                                                 ...           ...   \n",
       "613  Aqua/Water, Sodium Laureth Sulfate, Sodium Lau...           205   \n",
       "615                    Cocoa Butter, Avocado oil, Shea           399   \n",
       "616  Active Ingredients: Octinoxate 3%Inactive Ingr...          1200   \n",
       "618  Aloe Vera, Chamomile ext., Carrot ext., Liquor...           274   \n",
       "622                                           Creatine           389   \n",
       "\n",
       "          Product Brand  \n",
       "1         L'Oreal Paris  \n",
       "3         True Elements  \n",
       "6                 Nivea  \n",
       "7         Lotus Herbals  \n",
       "11             Smashbox  \n",
       "..                  ...  \n",
       "613              Matrix  \n",
       "615                VLCC  \n",
       "616  Physicians Formula  \n",
       "618              Jovees  \n",
       "622  As-It-Is Nutrition  \n",
       "\n",
       "[309 rows x 3 columns]"
      ]
     },
     "execution_count": 39,
     "metadata": {},
     "output_type": "execute_result"
    }
   ],
   "source": [
    "df"
   ]
  },
  {
   "cell_type": "code",
   "execution_count": 40,
   "id": "d416ed02",
   "metadata": {
    "execution": {
     "iopub.execute_input": "2021-10-07T18:06:55.276937Z",
     "iopub.status.busy": "2021-10-07T18:06:55.276249Z",
     "iopub.status.idle": "2021-10-07T18:06:55.279458Z",
     "shell.execute_reply": "2021-10-07T18:06:55.278910Z",
     "shell.execute_reply.started": "2021-10-07T18:06:08.687685Z"
    },
    "papermill": {
     "duration": 0.074413,
     "end_time": "2021-10-07T18:06:55.279593",
     "exception": false,
     "start_time": "2021-10-07T18:06:55.205180",
     "status": "completed"
    },
    "tags": []
   },
   "outputs": [],
   "source": [
    "wlist=[]\n",
    "for row in df.itertuples():\n",
    "    words=row[1].split(\",\")\n",
    "    wlist.append(words)\n",
    "\n",
    "mlist=[]\n",
    "for w in wlist:\n",
    "    for item in w:\n",
    "        mlist.append(item)\n",
    "        "
   ]
  },
  {
   "cell_type": "code",
   "execution_count": 41,
   "id": "97eb363d",
   "metadata": {
    "execution": {
     "iopub.execute_input": "2021-10-07T18:06:55.410972Z",
     "iopub.status.busy": "2021-10-07T18:06:55.410321Z",
     "iopub.status.idle": "2021-10-07T18:06:55.429658Z",
     "shell.execute_reply": "2021-10-07T18:06:55.430196Z",
     "shell.execute_reply.started": "2021-10-07T18:06:08.698001Z"
    },
    "papermill": {
     "duration": 0.087271,
     "end_time": "2021-10-07T18:06:55.430371",
     "exception": false,
     "start_time": "2021-10-07T18:06:55.343100",
     "status": "completed"
    },
    "tags": []
   },
   "outputs": [
    {
     "data": {
      "text/html": [
       "<div>\n",
       "<style scoped>\n",
       "    .dataframe tbody tr th:only-of-type {\n",
       "        vertical-align: middle;\n",
       "    }\n",
       "\n",
       "    .dataframe tbody tr th {\n",
       "        vertical-align: top;\n",
       "    }\n",
       "\n",
       "    .dataframe thead th {\n",
       "        text-align: right;\n",
       "    }\n",
       "</style>\n",
       "<table border=\"1\" class=\"dataframe\">\n",
       "  <thead>\n",
       "    <tr style=\"text-align: right;\">\n",
       "      <th></th>\n",
       "      <th>Component</th>\n",
       "      <th>Qty</th>\n",
       "    </tr>\n",
       "  </thead>\n",
       "  <tbody>\n",
       "    <tr>\n",
       "      <th>26</th>\n",
       "      <td>Phenoxyethanol</td>\n",
       "      <td>56</td>\n",
       "    </tr>\n",
       "    <tr>\n",
       "      <th>2</th>\n",
       "      <td>Dimethicone</td>\n",
       "      <td>51</td>\n",
       "    </tr>\n",
       "    <tr>\n",
       "      <th>15</th>\n",
       "      <td>Glycerin</td>\n",
       "      <td>51</td>\n",
       "    </tr>\n",
       "    <tr>\n",
       "      <th>84</th>\n",
       "      <td>Caprylyl Glycol</td>\n",
       "      <td>45</td>\n",
       "    </tr>\n",
       "    <tr>\n",
       "      <th>198</th>\n",
       "      <td>Tocopherol</td>\n",
       "      <td>38</td>\n",
       "    </tr>\n",
       "    <tr>\n",
       "      <th>...</th>\n",
       "      <td>...</td>\n",
       "      <td>...</td>\n",
       "    </tr>\n",
       "    <tr>\n",
       "      <th>1122</th>\n",
       "      <td>Pink Himalayan Salt</td>\n",
       "      <td>1</td>\n",
       "    </tr>\n",
       "    <tr>\n",
       "      <th>1121</th>\n",
       "      <td>Stevia Extract (Herbal Sweetener)</td>\n",
       "      <td>1</td>\n",
       "    </tr>\n",
       "    <tr>\n",
       "      <th>1120</th>\n",
       "      <td>Natural Vanilla Flavour</td>\n",
       "      <td>1</td>\n",
       "    </tr>\n",
       "    <tr>\n",
       "      <th>1119</th>\n",
       "      <td>Papain)</td>\n",
       "      <td>1</td>\n",
       "    </tr>\n",
       "    <tr>\n",
       "      <th>2483</th>\n",
       "      <td>Sandal ext.</td>\n",
       "      <td>1</td>\n",
       "    </tr>\n",
       "  </tbody>\n",
       "</table>\n",
       "<p>2484 rows × 2 columns</p>\n",
       "</div>"
      ],
      "text/plain": [
       "                               Component  Qty\n",
       "26                        Phenoxyethanol   56\n",
       "2                            Dimethicone   51\n",
       "15                              Glycerin   51\n",
       "84                       Caprylyl Glycol   45\n",
       "198                           Tocopherol   38\n",
       "...                                  ...  ...\n",
       "1122                 Pink Himalayan Salt    1\n",
       "1121   Stevia Extract (Herbal Sweetener)    1\n",
       "1120             Natural Vanilla Flavour    1\n",
       "1119                             Papain)    1\n",
       "2483                         Sandal ext.    1\n",
       "\n",
       "[2484 rows x 2 columns]"
      ]
     },
     "execution_count": 41,
     "metadata": {},
     "output_type": "execute_result"
    }
   ],
   "source": [
    "\n",
    "from collections import Counter\n",
    "c=Counter(mlist)\n",
    "comp=[];qty=[]\n",
    "for k in c:\n",
    "    comp.append(k)\n",
    "    qty.append(c.get(k))\n",
    "df_pcontent=pd.DataFrame({\n",
    "    'Component':comp,\n",
    "    'Qty':qty\n",
    "})\n",
    "# df_pcontent['Product Brand']=df['Product Brand']\n",
    "df_pcontent.sort_values(by='Qty',ascending=False,inplace=True)\n",
    "df_pcontent"
   ]
  },
  {
   "cell_type": "code",
   "execution_count": 42,
   "id": "00ad808f",
   "metadata": {
    "execution": {
     "iopub.execute_input": "2021-10-07T18:06:55.568889Z",
     "iopub.status.busy": "2021-10-07T18:06:55.568249Z",
     "iopub.status.idle": "2021-10-07T18:06:55.963116Z",
     "shell.execute_reply": "2021-10-07T18:06:55.963595Z",
     "shell.execute_reply.started": "2021-10-07T18:06:19.936062Z"
    },
    "papermill": {
     "duration": 0.461779,
     "end_time": "2021-10-07T18:06:55.963794",
     "exception": false,
     "start_time": "2021-10-07T18:06:55.502015",
     "status": "completed"
    },
    "tags": []
   },
   "outputs": [
    {
     "data": {
      "text/plain": [
       "Text(0.5, 1.0, 'Highest available component in products')"
      ]
     },
     "execution_count": 42,
     "metadata": {},
     "output_type": "execute_result"
    },
    {
     "data": {
      "image/png": "[encoded data removed]",
      "text/plain": [
       "<Figure size 2160x720 with 1 Axes>"
      ]
     },
     "metadata": {},
     "output_type": "display_data"
    }
   ],
   "source": [
    "sns.set(rc={'figure.figsize':(30,10)})\n",
    "ax=sns.barplot(data=df_pcontent[:15], x='Component',y='Qty')\n",
    "ax.set_title('Highest available component in products')"
   ]
  },
  {
   "cell_type": "code",
   "execution_count": null,
   "id": "00de1884",
   "metadata": {
    "papermill": {
     "duration": 0.06564,
     "end_time": "2021-10-07T18:06:56.095466",
     "exception": false,
     "start_time": "2021-10-07T18:06:56.029826",
     "status": "completed"
    },
    "tags": []
   },
   "outputs": [],
   "source": []
  }
 ],
 "metadata": {
  "kernelspec": {
   "display_name": "Python 3",
   "language": "python",
   "name": "python3"
  },
  "language_info": {
   "codemirror_mode": {
    "name": "ipython",
    "version": 3
   },
   "file_extension": ".py",
   "mimetype": "text/x-python",
   "name": "python",
   "nbconvert_exporter": "python",
   "pygments_lexer": "ipython3",
   "version": "3.7.10"
  },
  "papermill": {
   "default_parameters": {},
   "duration": 18.603975,
   "end_time": "2021-10-07T18:06:56.972146",
   "environment_variables": {},
   "exception": null,
   "input_path": "__notebook__.ipynb",
   "output_path": "__notebook__.ipynb",
   "parameters": {},
   "start_time": "2021-10-07T18:06:38.368171",
   "version": "2.3.3"
  }
 },
 "nbformat": 4,
 "nbformat_minor": 5
}
